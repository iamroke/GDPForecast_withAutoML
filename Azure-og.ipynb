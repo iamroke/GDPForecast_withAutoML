{
 "cells": [
  {
   "cell_type": "code",
   "execution_count": 1,
   "metadata": {
    "gather": {
     "logged": 1602553387290
    }
   },
   "outputs": [],
   "source": [
    "import azureml.core\n",
    "import pandas as pd\n",
    "import numpy as np\n",
    "import logging\n",
    "\n",
    "from azureml.core.workspace import Workspace\n",
    "from azureml.core.experiment import Experiment\n",
    "from azureml.train.automl import AutoMLConfig\n",
    "from azureml.automl.core.featurization import FeaturizationConfig\n"
   ]
  },
  {
   "cell_type": "code",
   "execution_count": 2,
   "metadata": {
    "jupyter": {
     "outputs_hidden": false,
     "source_hidden": false
    },
    "nteract": {
     "transient": {
      "deleting": false
     }
    }
   },
   "outputs": [
    {
     "name": "stdout",
     "output_type": "stream",
     "text": [
      "Requirement already up-to-date: azureml-train-automl-client in /anaconda/envs/azureml_py36/lib/python3.6/site-packages (1.16.0)\n",
      "Requirement already satisfied, skipping upgrade: azureml-core~=1.16.0 in /anaconda/envs/azureml_py36/lib/python3.6/site-packages (from azureml-train-automl-client) (1.16.0.post1)\n",
      "Requirement already satisfied, skipping upgrade: azureml-automl-core~=1.16.0 in /anaconda/envs/azureml_py36/lib/python3.6/site-packages (from azureml-train-automl-client) (1.16.0)\n",
      "Requirement already satisfied, skipping upgrade: azureml-dataset-runtime~=1.16.0 in /anaconda/envs/azureml_py36/lib/python3.6/site-packages (from azureml-train-automl-client) (1.16.0)\n",
      "Requirement already satisfied, skipping upgrade: azureml-telemetry~=1.16.0 in /anaconda/envs/azureml_py36/lib/python3.6/site-packages (from azureml-train-automl-client) (1.16.0)\n",
      "Requirement already satisfied, skipping upgrade: jmespath in /anaconda/envs/azureml_py36/lib/python3.6/site-packages (from azureml-core~=1.16.0->azureml-train-automl-client) (0.10.0)\n",
      "Requirement already satisfied, skipping upgrade: pyopenssl<20.0.0 in /anaconda/envs/azureml_py36/lib/python3.6/site-packages (from azureml-core~=1.16.0->azureml-train-automl-client) (19.1.0)\n",
      "Requirement already satisfied, skipping upgrade: azure-graphrbac<1.0.0,>=0.40.0 in /anaconda/envs/azureml_py36/lib/python3.6/site-packages (from azureml-core~=1.16.0->azureml-train-automl-client) (0.61.1)\n",
      "Requirement already satisfied, skipping upgrade: msrest>=0.5.1 in /anaconda/envs/azureml_py36/lib/python3.6/site-packages (from azureml-core~=1.16.0->azureml-train-automl-client) (0.6.19)\n",
      "Requirement already satisfied, skipping upgrade: PyJWT in /anaconda/envs/azureml_py36/lib/python3.6/site-packages (from azureml-core~=1.16.0->azureml-train-automl-client) (1.7.1)\n",
      "Requirement already satisfied, skipping upgrade: cryptography!=1.9,!=2.0.*,!=2.1.*,!=2.2.* in /anaconda/envs/azureml_py36/lib/python3.6/site-packages (from azureml-core~=1.16.0->azureml-train-automl-client) (3.1.1)\n",
      "Requirement already satisfied, skipping upgrade: azure-mgmt-storage<16.0.0,>=1.5.0 in /anaconda/envs/azureml_py36/lib/python3.6/site-packages (from azureml-core~=1.16.0->azureml-train-automl-client) (11.2.0)\n",
      "Requirement already satisfied, skipping upgrade: pathspec in /anaconda/envs/azureml_py36/lib/python3.6/site-packages (from azureml-core~=1.16.0->azureml-train-automl-client) (0.8.0)\n",
      "Requirement already satisfied, skipping upgrade: python-dateutil>=2.7.3 in /anaconda/envs/azureml_py36/lib/python3.6/site-packages (from azureml-core~=1.16.0->azureml-train-automl-client) (2.8.1)\n",
      "Requirement already satisfied, skipping upgrade: docker in /anaconda/envs/azureml_py36/lib/python3.6/site-packages (from azureml-core~=1.16.0->azureml-train-automl-client) (4.3.1)\n",
      "Requirement already satisfied, skipping upgrade: ruamel.yaml>=0.15.35 in /anaconda/envs/azureml_py36/lib/python3.6/site-packages (from azureml-core~=1.16.0->azureml-train-automl-client) (0.16.12)\n",
      "Requirement already satisfied, skipping upgrade: adal>=1.2.0 in /anaconda/envs/azureml_py36/lib/python3.6/site-packages (from azureml-core~=1.16.0->azureml-train-automl-client) (1.2.4)\n",
      "Requirement already satisfied, skipping upgrade: urllib3>=1.23 in /anaconda/envs/azureml_py36/lib/python3.6/site-packages (from azureml-core~=1.16.0->azureml-train-automl-client) (1.25.10)\n",
      "Requirement already satisfied, skipping upgrade: jsonpickle in /anaconda/envs/azureml_py36/lib/python3.6/site-packages (from azureml-core~=1.16.0->azureml-train-automl-client) (1.4.1)\n",
      "Requirement already satisfied, skipping upgrade: ndg-httpsclient in /anaconda/envs/azureml_py36/lib/python3.6/site-packages (from azureml-core~=1.16.0->azureml-train-automl-client) (0.5.1)\n",
      "Requirement already satisfied, skipping upgrade: msrestazure>=0.4.33 in /anaconda/envs/azureml_py36/lib/python3.6/site-packages (from azureml-core~=1.16.0->azureml-train-automl-client) (0.6.4)\n",
      "Requirement already satisfied, skipping upgrade: azure-mgmt-resource<15.0.0,>=1.2.1 in /anaconda/envs/azureml_py36/lib/python3.6/site-packages (from azureml-core~=1.16.0->azureml-train-automl-client) (10.2.0)\n",
      "Requirement already satisfied, skipping upgrade: backports.tempfile in /anaconda/envs/azureml_py36/lib/python3.6/site-packages (from azureml-core~=1.16.0->azureml-train-automl-client) (1.0)\n",
      "Requirement already satisfied, skipping upgrade: contextlib2 in /anaconda/envs/azureml_py36/lib/python3.6/site-packages (from azureml-core~=1.16.0->azureml-train-automl-client) (0.6.0.post1)\n",
      "Requirement already satisfied, skipping upgrade: requests>=2.19.1 in /anaconda/envs/azureml_py36/lib/python3.6/site-packages (from azureml-core~=1.16.0->azureml-train-automl-client) (2.24.0)\n",
      "Requirement already satisfied, skipping upgrade: azure-mgmt-authorization<1.0.0,>=0.40.0 in /anaconda/envs/azureml_py36/lib/python3.6/site-packages (from azureml-core~=1.16.0->azureml-train-automl-client) (0.61.0)\n",
      "Requirement already satisfied, skipping upgrade: azure-common>=1.1.12 in /anaconda/envs/azureml_py36/lib/python3.6/site-packages (from azureml-core~=1.16.0->azureml-train-automl-client) (1.1.25)\n",
      "Requirement already satisfied, skipping upgrade: SecretStorage in /anaconda/envs/azureml_py36/lib/python3.6/site-packages (from azureml-core~=1.16.0->azureml-train-automl-client) (3.1.2)\n",
      "Requirement already satisfied, skipping upgrade: azure-mgmt-keyvault<7.0.0,>=0.40.0 in /anaconda/envs/azureml_py36/lib/python3.6/site-packages (from azureml-core~=1.16.0->azureml-train-automl-client) (2.2.0)\n",
      "Requirement already satisfied, skipping upgrade: azure-mgmt-containerregistry>=2.0.0 in /anaconda/envs/azureml_py36/lib/python3.6/site-packages (from azureml-core~=1.16.0->azureml-train-automl-client) (2.8.0)\n",
      "Requirement already satisfied, skipping upgrade: pytz in /anaconda/envs/azureml_py36/lib/python3.6/site-packages (from azureml-core~=1.16.0->azureml-train-automl-client) (2020.1)\n",
      "Requirement already satisfied, skipping upgrade: azureml-dataprep<2.4.0a,>=2.3.0a in /anaconda/envs/azureml_py36/lib/python3.6/site-packages (from azureml-dataset-runtime~=1.16.0->azureml-train-automl-client) (2.3.4)\n",
      "Requirement already satisfied, skipping upgrade: pyarrow<2.0.0,>=0.17.0 in /anaconda/envs/azureml_py36/lib/python3.6/site-packages (from azureml-dataset-runtime~=1.16.0->azureml-train-automl-client) (1.0.1)\n",
      "Requirement already satisfied, skipping upgrade: applicationinsights in /anaconda/envs/azureml_py36/lib/python3.6/site-packages (from azureml-telemetry~=1.16.0->azureml-train-automl-client) (0.11.9)\n",
      "Requirement already satisfied, skipping upgrade: six>=1.5.2 in /anaconda/envs/azureml_py36/lib/python3.6/site-packages (from pyopenssl<20.0.0->azureml-core~=1.16.0->azureml-train-automl-client) (1.15.0)\n",
      "Requirement already satisfied, skipping upgrade: requests-oauthlib>=0.5.0 in /anaconda/envs/azureml_py36/lib/python3.6/site-packages (from msrest>=0.5.1->azureml-core~=1.16.0->azureml-train-automl-client) (1.3.0)\n",
      "Requirement already satisfied, skipping upgrade: isodate>=0.6.0 in /anaconda/envs/azureml_py36/lib/python3.6/site-packages (from msrest>=0.5.1->azureml-core~=1.16.0->azureml-train-automl-client) (0.6.0)\n",
      "Requirement already satisfied, skipping upgrade: certifi>=2017.4.17 in /anaconda/envs/azureml_py36/lib/python3.6/site-packages (from msrest>=0.5.1->azureml-core~=1.16.0->azureml-train-automl-client) (2020.6.20)\n",
      "Requirement already satisfied, skipping upgrade: cffi!=1.11.3,>=1.8 in /anaconda/envs/azureml_py36/lib/python3.6/site-packages (from cryptography!=1.9,!=2.0.*,!=2.1.*,!=2.2.*->azureml-core~=1.16.0->azureml-train-automl-client) (1.14.3)\n",
      "Requirement already satisfied, skipping upgrade: websocket-client>=0.32.0 in /anaconda/envs/azureml_py36/lib/python3.6/site-packages (from docker->azureml-core~=1.16.0->azureml-train-automl-client) (0.57.0)\n",
      "Requirement already satisfied, skipping upgrade: ruamel.yaml.clib>=0.1.2; platform_python_implementation == \"CPython\" and python_version < \"3.9\" in /anaconda/envs/azureml_py36/lib/python3.6/site-packages (from ruamel.yaml>=0.15.35->azureml-core~=1.16.0->azureml-train-automl-client) (0.2.2)\n",
      "Requirement already satisfied, skipping upgrade: importlib-metadata in /anaconda/envs/azureml_py36/lib/python3.6/site-packages (from jsonpickle->azureml-core~=1.16.0->azureml-train-automl-client) (2.0.0)\n",
      "Requirement already satisfied, skipping upgrade: pyasn1>=0.1.1 in /anaconda/envs/azureml_py36/lib/python3.6/site-packages (from ndg-httpsclient->azureml-core~=1.16.0->azureml-train-automl-client) (0.4.8)\n",
      "Requirement already satisfied, skipping upgrade: backports.weakref in /anaconda/envs/azureml_py36/lib/python3.6/site-packages (from backports.tempfile->azureml-core~=1.16.0->azureml-train-automl-client) (1.0.post1)\n",
      "Requirement already satisfied, skipping upgrade: chardet<4,>=3.0.2 in /anaconda/envs/azureml_py36/lib/python3.6/site-packages (from requests>=2.19.1->azureml-core~=1.16.0->azureml-train-automl-client) (3.0.4)\n",
      "Requirement already satisfied, skipping upgrade: idna<3,>=2.5 in /anaconda/envs/azureml_py36/lib/python3.6/site-packages (from requests>=2.19.1->azureml-core~=1.16.0->azureml-train-automl-client) (2.10)\n",
      "Requirement already satisfied, skipping upgrade: jeepney>=0.4.2 in /anaconda/envs/azureml_py36/lib/python3.6/site-packages (from SecretStorage->azureml-core~=1.16.0->azureml-train-automl-client) (0.4.3)\n",
      "Requirement already satisfied, skipping upgrade: dotnetcore2<3.0.0,>=2.1.14 in /anaconda/envs/azureml_py36/lib/python3.6/site-packages (from azureml-dataprep<2.4.0a,>=2.3.0a->azureml-dataset-runtime~=1.16.0->azureml-train-automl-client) (2.1.16)\n",
      "Requirement already satisfied, skipping upgrade: azureml-dataprep-native<24.0.0,>=23.0.0 in /anaconda/envs/azureml_py36/lib/python3.6/site-packages (from azureml-dataprep<2.4.0a,>=2.3.0a->azureml-dataset-runtime~=1.16.0->azureml-train-automl-client) (23.0.0)\n",
      "Requirement already satisfied, skipping upgrade: azureml-dataprep-rslex<1.2.0a,>=1.1.0dev0 in /anaconda/envs/azureml_py36/lib/python3.6/site-packages (from azureml-dataprep<2.4.0a,>=2.3.0a->azureml-dataset-runtime~=1.16.0->azureml-train-automl-client) (1.1.3)\n",
      "Requirement already satisfied, skipping upgrade: cloudpickle<2.0.0,>=1.1.0 in /anaconda/envs/azureml_py36/lib/python3.6/site-packages (from azureml-dataprep<2.4.0a,>=2.3.0a->azureml-dataset-runtime~=1.16.0->azureml-train-automl-client) (1.6.0)\n",
      "Requirement already satisfied, skipping upgrade: azure-identity<2.0.0,>=1.2.0 in /anaconda/envs/azureml_py36/lib/python3.6/site-packages (from azureml-dataprep<2.4.0a,>=2.3.0a->azureml-dataset-runtime~=1.16.0->azureml-train-automl-client) (1.4.0)\n",
      "Requirement already satisfied, skipping upgrade: numpy>=1.14 in /anaconda/envs/azureml_py36/lib/python3.6/site-packages (from pyarrow<2.0.0,>=0.17.0->azureml-dataset-runtime~=1.16.0->azureml-train-automl-client) (1.18.5)\n",
      "Requirement already satisfied, skipping upgrade: oauthlib>=3.0.0 in /anaconda/envs/azureml_py36/lib/python3.6/site-packages (from requests-oauthlib>=0.5.0->msrest>=0.5.1->azureml-core~=1.16.0->azureml-train-automl-client) (3.1.0)\n",
      "Requirement already satisfied, skipping upgrade: pycparser in /anaconda/envs/azureml_py36/lib/python3.6/site-packages (from cffi!=1.11.3,>=1.8->cryptography!=1.9,!=2.0.*,!=2.1.*,!=2.2.*->azureml-core~=1.16.0->azureml-train-automl-client) (2.20)\n",
      "Requirement already satisfied, skipping upgrade: zipp>=0.5 in /anaconda/envs/azureml_py36/lib/python3.6/site-packages (from importlib-metadata->jsonpickle->azureml-core~=1.16.0->azureml-train-automl-client) (3.2.0)\n",
      "Requirement already satisfied, skipping upgrade: distro>=1.2.0 in /anaconda/envs/azureml_py36/lib/python3.6/site-packages (from dotnetcore2<3.0.0,>=2.1.14->azureml-dataprep<2.4.0a,>=2.3.0a->azureml-dataset-runtime~=1.16.0->azureml-train-automl-client) (1.5.0)\r\n",
      "Requirement already satisfied, skipping upgrade: msal-extensions~=0.2.2 in /anaconda/envs/azureml_py36/lib/python3.6/site-packages (from azure-identity<2.0.0,>=1.2.0->azureml-dataprep<2.4.0a,>=2.3.0a->azureml-dataset-runtime~=1.16.0->azureml-train-automl-client) (0.2.2)\r\n",
      "Requirement already satisfied, skipping upgrade: msal<2.0.0,>=1.3.0 in /anaconda/envs/azureml_py36/lib/python3.6/site-packages (from azure-identity<2.0.0,>=1.2.0->azureml-dataprep<2.4.0a,>=2.3.0a->azureml-dataset-runtime~=1.16.0->azureml-train-automl-client) (1.5.0)\r\n",
      "Requirement already satisfied, skipping upgrade: azure-core<2.0.0,>=1.0.0 in /anaconda/envs/azureml_py36/lib/python3.6/site-packages (from azure-identity<2.0.0,>=1.2.0->azureml-dataprep<2.4.0a,>=2.3.0a->azureml-dataset-runtime~=1.16.0->azureml-train-automl-client) (1.8.1)\r\n",
      "Requirement already satisfied, skipping upgrade: portalocker~=1.0; platform_system != \"Windows\" in /anaconda/envs/azureml_py36/lib/python3.6/site-packages (from msal-extensions~=0.2.2->azure-identity<2.0.0,>=1.2.0->azureml-dataprep<2.4.0a,>=2.3.0a->azureml-dataset-runtime~=1.16.0->azureml-train-automl-client) (1.7.1)\r\n"
     ]
    }
   ],
   "source": [
    "!pip install --upgrade azureml-train-automl-client"
   ]
  },
  {
   "cell_type": "code",
   "execution_count": 3,
   "metadata": {
    "gather": {
     "logged": 1602553389766
    },
    "jupyter": {
     "outputs_hidden": false,
     "source_hidden": false
    },
    "nteract": {
     "transient": {
      "deleting": false
     }
    }
   },
   "outputs": [
    {
     "data": {
      "text/plain": [
       "'1.16.0'"
      ]
     },
     "execution_count": 3,
     "metadata": {},
     "output_type": "execute_result"
    }
   ],
   "source": [
    "azureml.core.VERSION"
   ]
  },
  {
   "cell_type": "code",
   "execution_count": 4,
   "metadata": {
    "gather": {
     "logged": 1602553390205
    },
    "jupyter": {
     "outputs_hidden": false,
     "source_hidden": false
    },
    "nteract": {
     "transient": {
      "deleting": false
     }
    }
   },
   "outputs": [
    {
     "data": {
      "text/html": [
       "<div>\n",
       "<style scoped>\n",
       "    .dataframe tbody tr th:only-of-type {\n",
       "        vertical-align: middle;\n",
       "    }\n",
       "\n",
       "    .dataframe tbody tr th {\n",
       "        vertical-align: top;\n",
       "    }\n",
       "\n",
       "    .dataframe thead th {\n",
       "        text-align: right;\n",
       "    }\n",
       "</style>\n",
       "<table border=\"1\" class=\"dataframe\">\n",
       "  <thead>\n",
       "    <tr style=\"text-align: right;\">\n",
       "      <th></th>\n",
       "      <th></th>\n",
       "    </tr>\n",
       "  </thead>\n",
       "  <tbody>\n",
       "    <tr>\n",
       "      <th>subscription ID</th>\n",
       "      <td>564cf816-26c7-4ae0-80d2-61523bedd56e</td>\n",
       "    </tr>\n",
       "    <tr>\n",
       "      <th>Workspace</th>\n",
       "      <td>Economics</td>\n",
       "    </tr>\n",
       "    <tr>\n",
       "      <th>SKU</th>\n",
       "      <td>Basic</td>\n",
       "    </tr>\n",
       "    <tr>\n",
       "      <th>Resource Group</th>\n",
       "      <td>MMF1922</td>\n",
       "    </tr>\n",
       "    <tr>\n",
       "      <th>Location</th>\n",
       "      <td>eastus</td>\n",
       "    </tr>\n",
       "    <tr>\n",
       "      <th>Run History Name</th>\n",
       "      <td>automl-ogforecasting</td>\n",
       "    </tr>\n",
       "  </tbody>\n",
       "</table>\n",
       "</div>"
      ],
      "text/plain": [
       "                                                      \n",
       "subscription ID   564cf816-26c7-4ae0-80d2-61523bedd56e\n",
       "Workspace         Economics                           \n",
       "SKU               Basic                               \n",
       "Resource Group    MMF1922                             \n",
       "Location          eastus                              \n",
       "Run History Name  automl-ogforecasting                "
      ]
     },
     "execution_count": 4,
     "metadata": {},
     "output_type": "execute_result"
    }
   ],
   "source": [
    "ws=Workspace.from_config()\n",
    "experiment_name = \"automl-ogforecasting\"\n",
    "experiment = Experiment(ws,experiment_name)\n",
    "\n",
    "output={}\n",
    "output[\"subscription ID\"]=ws.subscription_id\n",
    "output[\"Workspace\"]=ws.name\n",
    "output[\"SKU\"]=ws.sku\n",
    "output[\"Resource Group\"]=ws.resource_group\n",
    "output[\"Location\"]=ws.location\n",
    "output[\"Run History Name\"]=experiment_name\n",
    "pd.set_option('display.max_colwidth',-1)\n",
    "outputDf=pd.DataFrame(data=output, index=[''])\n",
    "outputDf.T"
   ]
  },
  {
   "cell_type": "code",
   "execution_count": 5,
   "metadata": {
    "gather": {
     "logged": 1602553390769
    },
    "jupyter": {
     "outputs_hidden": false,
     "source_hidden": false
    },
    "nteract": {
     "transient": {
      "deleting": false
     }
    }
   },
   "outputs": [
    {
     "name": "stdout",
     "output_type": "stream",
     "text": [
      "Found existing cluster, use it.\n",
      "Succeeded\n",
      "AmlCompute wait for completion finished\n",
      "\n",
      "Minimum number of nodes requested have been provisioned\n"
     ]
    }
   ],
   "source": [
    "from azureml.core.compute import ComputeTarget, AmlCompute\n",
    "from azureml.core.compute_target import ComputeTargetException\n",
    "amlcompute_cluster_name=\"og-cluster\"\n",
    "\n",
    "try:\n",
    "    compute_target=ComputeTarget(workspace=ws, name=amlcompute_cluster_name)\n",
    "    print('Found existing cluster, use it.')\n",
    "except ComputeTargetException:\n",
    "    compute_config = AmlCompute.provisioning_configuration(vm_size='STANDARD_D2_V2', max_nodes=6)\n",
    "    compute_target=ComputeTarget.create(ws, amlcompute_cluster_name, compute_config)\n",
    "compute_target.wait_for_completion(show_output=True)"
   ]
  },
  {
   "cell_type": "code",
   "execution_count": 6,
   "metadata": {
    "gather": {
     "logged": 1602625012903
    },
    "jupyter": {
     "outputs_hidden": false,
     "source_hidden": false
    },
    "nteract": {
     "transient": {
      "deleting": false
     }
    }
   },
   "outputs": [
    {
     "data": {
      "text/html": [
       "<div>\n",
       "<style scoped>\n",
       "    .dataframe tbody tr th:only-of-type {\n",
       "        vertical-align: middle;\n",
       "    }\n",
       "\n",
       "    .dataframe tbody tr th {\n",
       "        vertical-align: top;\n",
       "    }\n",
       "\n",
       "    .dataframe thead th {\n",
       "        text-align: right;\n",
       "    }\n",
       "</style>\n",
       "<table border=\"1\" class=\"dataframe\">\n",
       "  <thead>\n",
       "    <tr style=\"text-align: right;\">\n",
       "      <th></th>\n",
       "      <th>day_datetime</th>\n",
       "      <th>USA GDP QOQ</th>\n",
       "      <th>CAN GDP QOQ</th>\n",
       "      <th>USA Fed Funds Q</th>\n",
       "      <th>Canada Overnight Rate</th>\n",
       "      <th>USA 3-mo Bond Yield</th>\n",
       "      <th>Canada Output Gap</th>\n",
       "      <th>USA Nominal Output Gap</th>\n",
       "      <th>Canada CPI</th>\n",
       "      <th>USA CPI</th>\n",
       "      <th>Canada Housing Price Index</th>\n",
       "      <th>USA Housing Price index</th>\n",
       "    </tr>\n",
       "  </thead>\n",
       "  <tbody>\n",
       "    <tr>\n",
       "      <th>0</th>\n",
       "      <td>1961-06-30</td>\n",
       "      <td>7.0</td>\n",
       "      <td>7.661</td>\n",
       "      <td>1.73</td>\n",
       "      <td>6.75</td>\n",
       "      <td>2.27</td>\n",
       "      <td>3.7</td>\n",
       "      <td>-2.814</td>\n",
       "      <td>15.7</td>\n",
       "      <td>15.7</td>\n",
       "      <td>29.84</td>\n",
       "      <td>38.2</td>\n",
       "    </tr>\n",
       "    <tr>\n",
       "      <th>1</th>\n",
       "      <td>1961-09-30</td>\n",
       "      <td>7.9</td>\n",
       "      <td>12.059</td>\n",
       "      <td>1.88</td>\n",
       "      <td>6.75</td>\n",
       "      <td>2.28</td>\n",
       "      <td>3.7</td>\n",
       "      <td>-1.953</td>\n",
       "      <td>15.7</td>\n",
       "      <td>15.7</td>\n",
       "      <td>29.98</td>\n",
       "      <td>38.2</td>\n",
       "    </tr>\n",
       "    <tr>\n",
       "      <th>2</th>\n",
       "      <td>1961-12-31</td>\n",
       "      <td>8.1</td>\n",
       "      <td>0.824</td>\n",
       "      <td>2.33</td>\n",
       "      <td>6.75</td>\n",
       "      <td>2.73</td>\n",
       "      <td>3.7</td>\n",
       "      <td>-1.021</td>\n",
       "      <td>15.7</td>\n",
       "      <td>15.7</td>\n",
       "      <td>30.01</td>\n",
       "      <td>38.2</td>\n",
       "    </tr>\n",
       "    <tr>\n",
       "      <th>3</th>\n",
       "      <td>1962-03-31</td>\n",
       "      <td>7.3</td>\n",
       "      <td>7.889</td>\n",
       "      <td>2.85</td>\n",
       "      <td>6.75</td>\n",
       "      <td>2.74</td>\n",
       "      <td>3.7</td>\n",
       "      <td>-0.281</td>\n",
       "      <td>15.7</td>\n",
       "      <td>15.7</td>\n",
       "      <td>30.17</td>\n",
       "      <td>38.2</td>\n",
       "    </tr>\n",
       "    <tr>\n",
       "      <th>4</th>\n",
       "      <td>1962-06-30</td>\n",
       "      <td>3.7</td>\n",
       "      <td>3.250</td>\n",
       "      <td>2.68</td>\n",
       "      <td>6.75</td>\n",
       "      <td>2.86</td>\n",
       "      <td>3.7</td>\n",
       "      <td>-0.430</td>\n",
       "      <td>15.9</td>\n",
       "      <td>15.9</td>\n",
       "      <td>30.21</td>\n",
       "      <td>38.2</td>\n",
       "    </tr>\n",
       "  </tbody>\n",
       "</table>\n",
       "</div>"
      ],
      "text/plain": [
       "  day_datetime  USA GDP QOQ  CAN GDP QOQ  USA Fed Funds Q  \\\n",
       "0 1961-06-30    7.0          7.661        1.73              \n",
       "1 1961-09-30    7.9          12.059       1.88              \n",
       "2 1961-12-31    8.1          0.824        2.33              \n",
       "3 1962-03-31    7.3          7.889        2.85              \n",
       "4 1962-06-30    3.7          3.250        2.68              \n",
       "\n",
       "   Canada Overnight Rate  USA 3-mo Bond Yield  Canada Output Gap  \\\n",
       "0  6.75                   2.27                 3.7                 \n",
       "1  6.75                   2.28                 3.7                 \n",
       "2  6.75                   2.73                 3.7                 \n",
       "3  6.75                   2.74                 3.7                 \n",
       "4  6.75                   2.86                 3.7                 \n",
       "\n",
       "   USA Nominal Output Gap  Canada CPI  USA CPI  Canada Housing Price Index  \\\n",
       "0 -2.814                   15.7        15.7     29.84                        \n",
       "1 -1.953                   15.7        15.7     29.98                        \n",
       "2 -1.021                   15.7        15.7     30.01                        \n",
       "3 -0.281                   15.7        15.7     30.17                        \n",
       "4 -0.430                   15.9        15.9     30.21                        \n",
       "\n",
       "   USA Housing Price index  \n",
       "0  38.2                     \n",
       "1  38.2                     \n",
       "2  38.2                     \n",
       "3  38.2                     \n",
       "4  38.2                     "
      ]
     },
     "execution_count": 6,
     "metadata": {},
     "output_type": "execute_result"
    }
   ],
   "source": [
    "time_column_name = 'day_datetime'\n",
    "data=pd.read_csv('rawdata.csv', parse_dates=[time_column_name])\n",
    "data.head()"
   ]
  },
  {
   "cell_type": "code",
   "execution_count": 7,
   "metadata": {
    "gather": {
     "logged": 1602553391620
    },
    "jupyter": {
     "outputs_hidden": false,
     "source_hidden": false
    },
    "nteract": {
     "transient": {
      "deleting": false
     }
    }
   },
   "outputs": [],
   "source": [
    "data[\"day_datetime\"] = pd.to_datetime(data[\"day_datetime\"])"
   ]
  },
  {
   "cell_type": "code",
   "execution_count": 8,
   "metadata": {
    "gather": {
     "logged": 1602625021999
    },
    "jupyter": {
     "outputs_hidden": false,
     "source_hidden": false
    },
    "nteract": {
     "transient": {
      "deleting": false
     }
    }
   },
   "outputs": [],
   "source": [
    "n_test_periods=14\n",
    "\n",
    "def split_last_n(df,n):\n",
    "    df_head=df.apply(lambda dfg: dfg.iloc[:-n])\n",
    "    df_tail=df.apply(lambda dfg: dfg.iloc[-n:])\n",
    "    return df_head, df_tail\n",
    "    \n",
    "train, test=split_last_n(data, n_test_periods)"
   ]
  },
  {
   "cell_type": "code",
   "execution_count": 9,
   "metadata": {
    "gather": {
     "logged": 1602625049204
    },
    "jupyter": {
     "outputs_hidden": false,
     "source_hidden": false
    },
    "nteract": {
     "transient": {
      "deleting": false
     }
    }
   },
   "outputs": [
    {
     "data": {
      "text/html": [
       "<div>\n",
       "<style scoped>\n",
       "    .dataframe tbody tr th:only-of-type {\n",
       "        vertical-align: middle;\n",
       "    }\n",
       "\n",
       "    .dataframe tbody tr th {\n",
       "        vertical-align: top;\n",
       "    }\n",
       "\n",
       "    .dataframe thead th {\n",
       "        text-align: right;\n",
       "    }\n",
       "</style>\n",
       "<table border=\"1\" class=\"dataframe\">\n",
       "  <thead>\n",
       "    <tr style=\"text-align: right;\">\n",
       "      <th></th>\n",
       "      <th>day_datetime</th>\n",
       "      <th>USA GDP QOQ</th>\n",
       "      <th>CAN GDP QOQ</th>\n",
       "      <th>USA Fed Funds Q</th>\n",
       "      <th>Canada Overnight Rate</th>\n",
       "      <th>USA 3-mo Bond Yield</th>\n",
       "      <th>Canada Output Gap</th>\n",
       "      <th>USA Nominal Output Gap</th>\n",
       "      <th>Canada CPI</th>\n",
       "      <th>USA CPI</th>\n",
       "      <th>Canada Housing Price Index</th>\n",
       "      <th>USA Housing Price index</th>\n",
       "    </tr>\n",
       "  </thead>\n",
       "  <tbody>\n",
       "    <tr>\n",
       "      <th>222</th>\n",
       "      <td>2016-12-31</td>\n",
       "      <td>2.5</td>\n",
       "      <td>2.271</td>\n",
       "      <td>0.54</td>\n",
       "      <td>0.50</td>\n",
       "      <td>0.5127</td>\n",
       "      <td>-2.1</td>\n",
       "      <td>-1.053</td>\n",
       "      <td>128.4</td>\n",
       "      <td>128.4</td>\n",
       "      <td>242.712</td>\n",
       "      <td>100.0</td>\n",
       "    </tr>\n",
       "    <tr>\n",
       "      <th>223</th>\n",
       "      <td>2017-03-31</td>\n",
       "      <td>2.3</td>\n",
       "      <td>4.684</td>\n",
       "      <td>0.79</td>\n",
       "      <td>0.50</td>\n",
       "      <td>0.7516</td>\n",
       "      <td>-1.3</td>\n",
       "      <td>-0.854</td>\n",
       "      <td>129.9</td>\n",
       "      <td>129.9</td>\n",
       "      <td>243.721</td>\n",
       "      <td>100.7</td>\n",
       "    </tr>\n",
       "    <tr>\n",
       "      <th>224</th>\n",
       "      <td>2017-06-30</td>\n",
       "      <td>1.7</td>\n",
       "      <td>4.803</td>\n",
       "      <td>1.04</td>\n",
       "      <td>0.50</td>\n",
       "      <td>1.0113</td>\n",
       "      <td>-0.5</td>\n",
       "      <td>-0.851</td>\n",
       "      <td>130.4</td>\n",
       "      <td>130.4</td>\n",
       "      <td>244.179</td>\n",
       "      <td>102.4</td>\n",
       "    </tr>\n",
       "    <tr>\n",
       "      <th>225</th>\n",
       "      <td>2017-09-30</td>\n",
       "      <td>2.9</td>\n",
       "      <td>1.444</td>\n",
       "      <td>1.15</td>\n",
       "      <td>1.00</td>\n",
       "      <td>1.1312</td>\n",
       "      <td>-0.5</td>\n",
       "      <td>-0.568</td>\n",
       "      <td>130.8</td>\n",
       "      <td>130.8</td>\n",
       "      <td>246.445</td>\n",
       "      <td>103.1</td>\n",
       "    </tr>\n",
       "    <tr>\n",
       "      <th>226</th>\n",
       "      <td>2017-12-31</td>\n",
       "      <td>3.9</td>\n",
       "      <td>1.744</td>\n",
       "      <td>1.30</td>\n",
       "      <td>1.25</td>\n",
       "      <td>1.4551</td>\n",
       "      <td>-0.5</td>\n",
       "      <td>-0.057</td>\n",
       "      <td>130.8</td>\n",
       "      <td>130.8</td>\n",
       "      <td>247.847</td>\n",
       "      <td>103.3</td>\n",
       "    </tr>\n",
       "  </tbody>\n",
       "</table>\n",
       "</div>"
      ],
      "text/plain": [
       "    day_datetime  USA GDP QOQ  CAN GDP QOQ  USA Fed Funds Q  \\\n",
       "222 2016-12-31    2.5          2.271        0.54              \n",
       "223 2017-03-31    2.3          4.684        0.79              \n",
       "224 2017-06-30    1.7          4.803        1.04              \n",
       "225 2017-09-30    2.9          1.444        1.15              \n",
       "226 2017-12-31    3.9          1.744        1.30              \n",
       "\n",
       "     Canada Overnight Rate  USA 3-mo Bond Yield  Canada Output Gap  \\\n",
       "222  0.50                   0.5127              -2.1                 \n",
       "223  0.50                   0.7516              -1.3                 \n",
       "224  0.50                   1.0113              -0.5                 \n",
       "225  1.00                   1.1312              -0.5                 \n",
       "226  1.25                   1.4551              -0.5                 \n",
       "\n",
       "     USA Nominal Output Gap  Canada CPI  USA CPI  Canada Housing Price Index  \\\n",
       "222 -1.053                   128.4       128.4    242.712                      \n",
       "223 -0.854                   129.9       129.9    243.721                      \n",
       "224 -0.851                   130.4       130.4    244.179                      \n",
       "225 -0.568                   130.8       130.8    246.445                      \n",
       "226 -0.057                   130.8       130.8    247.847                      \n",
       "\n",
       "     USA Housing Price index  \n",
       "222  100.0                    \n",
       "223  100.7                    \n",
       "224  102.4                    \n",
       "225  103.1                    \n",
       "226  103.3                    "
      ]
     },
     "execution_count": 9,
     "metadata": {},
     "output_type": "execute_result"
    }
   ],
   "source": [
    "test.head()"
   ]
  },
  {
   "cell_type": "code",
   "execution_count": 10,
   "metadata": {
    "gather": {
     "logged": 1602625063902
    },
    "jupyter": {
     "outputs_hidden": false,
     "source_hidden": false
    },
    "nteract": {
     "transient": {
      "deleting": false
     }
    }
   },
   "outputs": [],
   "source": [
    "train.to_csv(r'./rawdata_OG_train.csv', index=None)\n",
    "test.to_csv(r'./rawdata_OG_test.csv',index=None)"
   ]
  },
  {
   "cell_type": "code",
   "execution_count": 11,
   "metadata": {
    "gather": {
     "logged": 1602625072803
    },
    "jupyter": {
     "outputs_hidden": false,
     "source_hidden": false
    },
    "nteract": {
     "transient": {
      "deleting": false
     }
    }
   },
   "outputs": [
    {
     "name": "stdout",
     "output_type": "stream",
     "text": [
      "Uploading an estimated of 2 files\n",
      "Uploading ./rawdata_OG_train.csv\n",
      "Uploaded ./rawdata_OG_train.csv, 1 files out of an estimated total of 2\n",
      "Uploading ./rawdata_OG_test.csv\n",
      "Uploaded ./rawdata_OG_test.csv, 2 files out of an estimated total of 2\n",
      "Uploaded 2 files\n"
     ]
    },
    {
     "data": {
      "text/plain": [
       "$AZUREML_DATAREFERENCE_ac7563a4574740bab74183a8f1bdcd8f"
      ]
     },
     "execution_count": 11,
     "metadata": {},
     "output_type": "execute_result"
    }
   ],
   "source": [
    "datastore=ws.get_default_datastore()\n",
    "datastore.upload_files(files=['./rawdata_OG_train.csv', './rawdata_OG_test.csv'], target_path = 'dataset/', overwrite=True)"
   ]
  },
  {
   "cell_type": "code",
   "execution_count": 12,
   "metadata": {
    "gather": {
     "logged": 1602625139615
    },
    "jupyter": {
     "outputs_hidden": false,
     "source_hidden": false
    },
    "nteract": {
     "transient": {
      "deleting": false
     }
    }
   },
   "outputs": [],
   "source": [
    "from azureml.core.dataset import Dataset\n",
    "train_dataset = Dataset.Tabular.from_delimited_files(path=datastore.path('dataset/rawdata_OG_train.csv'))\n"
   ]
  },
  {
   "cell_type": "code",
   "execution_count": 13,
   "metadata": {
    "gather": {
     "logged": 1602625145462
    },
    "jupyter": {
     "outputs_hidden": false,
     "source_hidden": false
    },
    "nteract": {
     "transient": {
      "deleting": false
     }
    }
   },
   "outputs": [
    {
     "data": {
      "text/html": [
       "<div>\n",
       "<style scoped>\n",
       "    .dataframe tbody tr th:only-of-type {\n",
       "        vertical-align: middle;\n",
       "    }\n",
       "\n",
       "    .dataframe tbody tr th {\n",
       "        vertical-align: top;\n",
       "    }\n",
       "\n",
       "    .dataframe thead th {\n",
       "        text-align: right;\n",
       "    }\n",
       "</style>\n",
       "<table border=\"1\" class=\"dataframe\">\n",
       "  <thead>\n",
       "    <tr style=\"text-align: right;\">\n",
       "      <th></th>\n",
       "      <th>day_datetime</th>\n",
       "      <th>USA GDP QOQ</th>\n",
       "      <th>CAN GDP QOQ</th>\n",
       "      <th>USA Fed Funds Q</th>\n",
       "      <th>Canada Overnight Rate</th>\n",
       "      <th>USA 3-mo Bond Yield</th>\n",
       "      <th>Canada Output Gap</th>\n",
       "      <th>USA Nominal Output Gap</th>\n",
       "      <th>Canada CPI</th>\n",
       "      <th>USA CPI</th>\n",
       "      <th>Canada Housing Price Index</th>\n",
       "      <th>USA Housing Price index</th>\n",
       "    </tr>\n",
       "  </thead>\n",
       "  <tbody>\n",
       "    <tr>\n",
       "      <th>217</th>\n",
       "      <td>2015-09-30</td>\n",
       "      <td>1.5</td>\n",
       "      <td>1.419</td>\n",
       "      <td>0.14</td>\n",
       "      <td>0.5</td>\n",
       "      <td>-0.0203</td>\n",
       "      <td>-2.0</td>\n",
       "      <td>-1.251</td>\n",
       "      <td>127.1</td>\n",
       "      <td>127.1</td>\n",
       "      <td>237.498</td>\n",
       "      <td>96.6</td>\n",
       "    </tr>\n",
       "    <tr>\n",
       "      <th>218</th>\n",
       "      <td>2015-12-31</td>\n",
       "      <td>0.6</td>\n",
       "      <td>0.301</td>\n",
       "      <td>0.24</td>\n",
       "      <td>0.5</td>\n",
       "      <td>0.1627</td>\n",
       "      <td>-2.3</td>\n",
       "      <td>-1.497</td>\n",
       "      <td>126.5</td>\n",
       "      <td>126.5</td>\n",
       "      <td>237.761</td>\n",
       "      <td>97.0</td>\n",
       "    </tr>\n",
       "    <tr>\n",
       "      <th>219</th>\n",
       "      <td>2016-03-31</td>\n",
       "      <td>2.3</td>\n",
       "      <td>2.210</td>\n",
       "      <td>0.36</td>\n",
       "      <td>0.5</td>\n",
       "      <td>0.1983</td>\n",
       "      <td>-2.2</td>\n",
       "      <td>-1.321</td>\n",
       "      <td>127.9</td>\n",
       "      <td>127.9</td>\n",
       "      <td>237.990</td>\n",
       "      <td>97.5</td>\n",
       "    </tr>\n",
       "    <tr>\n",
       "      <th>220</th>\n",
       "      <td>2016-06-30</td>\n",
       "      <td>1.3</td>\n",
       "      <td>-1.954</td>\n",
       "      <td>0.38</td>\n",
       "      <td>0.5</td>\n",
       "      <td>0.2587</td>\n",
       "      <td>-3.0</td>\n",
       "      <td>-1.403</td>\n",
       "      <td>129.1</td>\n",
       "      <td>129.1</td>\n",
       "      <td>240.144</td>\n",
       "      <td>98.6</td>\n",
       "    </tr>\n",
       "    <tr>\n",
       "      <th>221</th>\n",
       "      <td>2016-09-30</td>\n",
       "      <td>2.2</td>\n",
       "      <td>4.197</td>\n",
       "      <td>0.40</td>\n",
       "      <td>0.5</td>\n",
       "      <td>0.2739</td>\n",
       "      <td>-2.4</td>\n",
       "      <td>-1.289</td>\n",
       "      <td>128.8</td>\n",
       "      <td>128.8</td>\n",
       "      <td>241.068</td>\n",
       "      <td>99.3</td>\n",
       "    </tr>\n",
       "  </tbody>\n",
       "</table>\n",
       "</div>"
      ],
      "text/plain": [
       "    day_datetime  USA GDP QOQ  CAN GDP QOQ  USA Fed Funds Q  \\\n",
       "217 2015-09-30    1.5          1.419        0.14              \n",
       "218 2015-12-31    0.6          0.301        0.24              \n",
       "219 2016-03-31    2.3          2.210        0.36              \n",
       "220 2016-06-30    1.3         -1.954        0.38              \n",
       "221 2016-09-30    2.2          4.197        0.40              \n",
       "\n",
       "     Canada Overnight Rate  USA 3-mo Bond Yield  Canada Output Gap  \\\n",
       "217  0.5                   -0.0203              -2.0                 \n",
       "218  0.5                    0.1627              -2.3                 \n",
       "219  0.5                    0.1983              -2.2                 \n",
       "220  0.5                    0.2587              -3.0                 \n",
       "221  0.5                    0.2739              -2.4                 \n",
       "\n",
       "     USA Nominal Output Gap  Canada CPI  USA CPI  Canada Housing Price Index  \\\n",
       "217 -1.251                   127.1       127.1    237.498                      \n",
       "218 -1.497                   126.5       126.5    237.761                      \n",
       "219 -1.321                   127.9       127.9    237.990                      \n",
       "220 -1.403                   129.1       129.1    240.144                      \n",
       "221 -1.289                   128.8       128.8    241.068                      \n",
       "\n",
       "     USA Housing Price index  \n",
       "217  96.6                     \n",
       "218  97.0                     \n",
       "219  97.5                     \n",
       "220  98.6                     \n",
       "221  99.3                     "
      ]
     },
     "execution_count": 13,
     "metadata": {},
     "output_type": "execute_result"
    }
   ],
   "source": [
    "train_dataset.to_pandas_dataframe().tail()"
   ]
  },
  {
   "cell_type": "code",
   "execution_count": 14,
   "metadata": {
    "gather": {
     "logged": 1602625168035
    },
    "jupyter": {
     "outputs_hidden": false,
     "source_hidden": false
    },
    "nteract": {
     "transient": {
      "deleting": false
     }
    }
   },
   "outputs": [],
   "source": [
    "target_column_name = \"CAN GDP QOQ\""
   ]
  },
  {
   "cell_type": "code",
   "execution_count": 15,
   "metadata": {
    "gather": {
     "logged": 1602625182962
    },
    "jupyter": {
     "outputs_hidden": false,
     "source_hidden": false
    },
    "nteract": {
     "transient": {
      "deleting": false
     }
    }
   },
   "outputs": [],
   "source": [
    "time_series_settings={\n",
    "    'time_column_name':time_column_name,\n",
    "    'max_horizon':n_test_periods\n",
    "}\n",
    "\n",
    "automl_config=AutoMLConfig(task=\"forecasting\",debug_log=\"automl_og_errors.log\",primary_metric='normalized_mean_absolute_error', experiment_timeout_hours=0.5, training_data=train_dataset, label_column_name=target_column_name, compute_target=compute_target, enable_early_stopping=True, n_cross_validations=3, verbosity=logging.INFO, **time_series_settings)\n"
   ]
  },
  {
   "cell_type": "code",
   "execution_count": 16,
   "metadata": {
    "gather": {
     "logged": 1602625197909
    },
    "jupyter": {
     "outputs_hidden": false,
     "source_hidden": false
    },
    "nteract": {
     "transient": {
      "deleting": false
     }
    }
   },
   "outputs": [
    {
     "name": "stdout",
     "output_type": "stream",
     "text": [
      "Running on remote.\n"
     ]
    },
    {
     "data": {
      "text/html": [
       "<table style=\"width:100%\"><tr><th>Experiment</th><th>Id</th><th>Type</th><th>Status</th><th>Details Page</th><th>Docs Page</th></tr><tr><td>automl-ogforecasting</td><td>AutoML_c574620d-324d-4f8a-a576-1392346bfa04</td><td>automl</td><td>NotStarted</td><td><a href=\"https://ml.azure.com/experiments/automl-ogforecasting/runs/AutoML_c574620d-324d-4f8a-a576-1392346bfa04?wsid=/subscriptions/564cf816-26c7-4ae0-80d2-61523bedd56e/resourcegroups/MMF1922/workspaces/Economics\" target=\"_blank\" rel=\"noopener\">Link to Azure Machine Learning studio</a></td><td><a href=\"https://docs.microsoft.com/en-us/python/api/overview/azure/ml/intro?view=azure-ml-py\" target=\"_blank\" rel=\"noopener\">Link to Documentation</a></td></tr></table>"
      ],
      "text/plain": [
       "Run(Experiment: automl-ogforecasting,\n",
       "Id: AutoML_c574620d-324d-4f8a-a576-1392346bfa04,\n",
       "Type: automl,\n",
       "Status: NotStarted)"
      ]
     },
     "execution_count": 16,
     "metadata": {},
     "output_type": "execute_result"
    }
   ],
   "source": [
    "remote_run=experiment.submit(automl_config, show_output=False)\n",
    "remote_run"
   ]
  },
  {
   "cell_type": "code",
   "execution_count": 17,
   "metadata": {
    "gather": {
     "logged": 1602630225641
    },
    "jupyter": {
     "outputs_hidden": false,
     "source_hidden": false
    },
    "nteract": {
     "transient": {
      "deleting": false
     }
    }
   },
   "outputs": [
    {
     "name": "stdout",
     "output_type": "stream",
     "text": [
      "[('timeseriestransformer', TimeSeriesTransformer(featurization_config=None,\n",
      "                      pipeline_type=<TimeSeriesPipelineType.FULL: 1>)), ('prefittedsoftvotingregressor', PreFittedSoftVotingRegressor(estimators=[('7',\n",
      "                                          Pipeline(memory=None,\n",
      "                                                   steps=[('standardscalerwrapper',\n",
      "                                                           <azureml.automl.runtime.shared.model_wrappers.StandardScalerWrapper object at 0x7fec5720f978>),\n",
      "                                                          ('elasticnet',\n",
      "                                                           ElasticNet(alpha=0.9474210526315789,\n",
      "                                                                      copy_X=True,\n",
      "                                                                      fit_intercept=True,\n",
      "                                                                      l1_ratio=0.01,\n",
      "                                                                      max_iter=1000,\n",
      "                                                                      normalize=False,\n",
      "                                                                      positive=False,\n",
      "                                                                      precompute=False,\n",
      "                                                                      ra...\n",
      "                                                                                 min_impurity_decrease=0.0,\n",
      "                                                                                 min_impurity_split=None,\n",
      "                                                                                 min_samples_leaf=0.026371108773275,\n",
      "                                                                                 min_samples_split=0.000753222139758624,\n",
      "                                                                                 min_weight_fraction_leaf=0.0,\n",
      "                                                                                 presort='deprecated',\n",
      "                                                                                 random_state=None,\n",
      "                                                                                 splitter='best'))],\n",
      "                                                   verbose=False))],\n",
      "                             weights=[0.16666666666666666, 0.16666666666666666,\n",
      "                                      0.16666666666666666, 0.16666666666666666,\n",
      "                                      0.16666666666666666,\n",
      "                                      0.16666666666666666]))]\n"
     ]
    }
   ],
   "source": [
    "best_run, fitted_model = remote_run.get_output()\n",
    "print(fitted_model.steps)\n",
    "model_name=best_run.properties['model_name']"
   ]
  },
  {
   "cell_type": "code",
   "execution_count": 18,
   "metadata": {
    "gather": {
     "logged": 1602630239656
    },
    "jupyter": {
     "outputs_hidden": false,
     "source_hidden": false
    },
    "nteract": {
     "transient": {
      "deleting": false
     }
    }
   },
   "outputs": [],
   "source": [
    "custom_featurizer=fitted_model.named_steps['timeseriestransformer']"
   ]
  },
  {
   "cell_type": "code",
   "execution_count": 19,
   "metadata": {
    "gather": {
     "logged": 1602630245692
    },
    "jupyter": {
     "outputs_hidden": false,
     "source_hidden": false
    },
    "nteract": {
     "transient": {
      "deleting": false
     }
    }
   },
   "outputs": [
    {
     "data": {
      "text/plain": [
       "[{'RawFeatureName': 'USA GDP QOQ',\n",
       "  'TypeDetected': 'Numeric',\n",
       "  'Dropped': 'No',\n",
       "  'EngineeredFeatureCount': 2,\n",
       "  'Transformations': ['MedianImputer', 'ImputationMarker']},\n",
       " {'RawFeatureName': 'USA Fed Funds Q',\n",
       "  'TypeDetected': 'Numeric',\n",
       "  'Dropped': 'No',\n",
       "  'EngineeredFeatureCount': 2,\n",
       "  'Transformations': ['MedianImputer', 'ImputationMarker']},\n",
       " {'RawFeatureName': 'Canada Overnight Rate',\n",
       "  'TypeDetected': 'Numeric',\n",
       "  'Dropped': 'No',\n",
       "  'EngineeredFeatureCount': 2,\n",
       "  'Transformations': ['MedianImputer', 'ImputationMarker']},\n",
       " {'RawFeatureName': 'USA 3-mo Bond Yield',\n",
       "  'TypeDetected': 'Numeric',\n",
       "  'Dropped': 'No',\n",
       "  'EngineeredFeatureCount': 2,\n",
       "  'Transformations': ['MedianImputer', 'ImputationMarker']},\n",
       " {'RawFeatureName': 'Canada Output Gap',\n",
       "  'TypeDetected': 'Numeric',\n",
       "  'Dropped': 'No',\n",
       "  'EngineeredFeatureCount': 2,\n",
       "  'Transformations': ['MedianImputer', 'ImputationMarker']},\n",
       " {'RawFeatureName': 'USA Nominal Output Gap',\n",
       "  'TypeDetected': 'Numeric',\n",
       "  'Dropped': 'No',\n",
       "  'EngineeredFeatureCount': 2,\n",
       "  'Transformations': ['MedianImputer', 'ImputationMarker']},\n",
       " {'RawFeatureName': 'Canada CPI',\n",
       "  'TypeDetected': 'Numeric',\n",
       "  'Dropped': 'No',\n",
       "  'EngineeredFeatureCount': 2,\n",
       "  'Transformations': ['MedianImputer', 'ImputationMarker']},\n",
       " {'RawFeatureName': 'USA CPI',\n",
       "  'TypeDetected': 'Numeric',\n",
       "  'Dropped': 'No',\n",
       "  'EngineeredFeatureCount': 2,\n",
       "  'Transformations': ['MedianImputer', 'ImputationMarker']},\n",
       " {'RawFeatureName': 'Canada Housing Price Index',\n",
       "  'TypeDetected': 'Numeric',\n",
       "  'Dropped': 'No',\n",
       "  'EngineeredFeatureCount': 2,\n",
       "  'Transformations': ['MedianImputer', 'ImputationMarker']},\n",
       " {'RawFeatureName': 'USA Housing Price index',\n",
       "  'TypeDetected': 'Numeric',\n",
       "  'Dropped': 'No',\n",
       "  'EngineeredFeatureCount': 2,\n",
       "  'Transformations': ['MedianImputer', 'ImputationMarker']},\n",
       " {'RawFeatureName': 'day_datetime',\n",
       "  'TypeDetected': 'DateTime',\n",
       "  'Dropped': 'No',\n",
       "  'EngineeredFeatureCount': 7,\n",
       "  'Transformations': ['DateTimeTransformer',\n",
       "   'DateTimeTransformer',\n",
       "   'DateTimeTransformer',\n",
       "   'DateTimeTransformer',\n",
       "   'DateTimeTransformer',\n",
       "   'DateTimeTransformer',\n",
       "   'DateTimeTransformer']}]"
      ]
     },
     "execution_count": 19,
     "metadata": {},
     "output_type": "execute_result"
    }
   ],
   "source": [
    "custom_featurizer.get_featurization_summary()"
   ]
  },
  {
   "cell_type": "code",
   "execution_count": 20,
   "metadata": {
    "gather": {
     "logged": 1602630254523
    },
    "jupyter": {
     "outputs_hidden": false,
     "source_hidden": false
    },
    "nteract": {
     "transient": {
      "deleting": false
     }
    }
   },
   "outputs": [
    {
     "data": {
      "text/html": [
       "<div>\n",
       "<style scoped>\n",
       "    .dataframe tbody tr th:only-of-type {\n",
       "        vertical-align: middle;\n",
       "    }\n",
       "\n",
       "    .dataframe tbody tr th {\n",
       "        vertical-align: top;\n",
       "    }\n",
       "\n",
       "    .dataframe thead th {\n",
       "        text-align: right;\n",
       "    }\n",
       "</style>\n",
       "<table border=\"1\" class=\"dataframe\">\n",
       "  <thead>\n",
       "    <tr style=\"text-align: right;\">\n",
       "      <th></th>\n",
       "      <th>day_datetime</th>\n",
       "      <th>USA GDP QOQ</th>\n",
       "      <th>USA Fed Funds Q</th>\n",
       "      <th>Canada Overnight Rate</th>\n",
       "      <th>USA 3-mo Bond Yield</th>\n",
       "      <th>Canada Output Gap</th>\n",
       "      <th>USA Nominal Output Gap</th>\n",
       "      <th>Canada CPI</th>\n",
       "      <th>USA CPI</th>\n",
       "      <th>Canada Housing Price Index</th>\n",
       "      <th>USA Housing Price index</th>\n",
       "    </tr>\n",
       "  </thead>\n",
       "  <tbody>\n",
       "    <tr>\n",
       "      <th>222</th>\n",
       "      <td>2016-12-31</td>\n",
       "      <td>2.50</td>\n",
       "      <td>0.54</td>\n",
       "      <td>0.50</td>\n",
       "      <td>0.51</td>\n",
       "      <td>-2.10</td>\n",
       "      <td>-1.05</td>\n",
       "      <td>128.40</td>\n",
       "      <td>128.40</td>\n",
       "      <td>242.71</td>\n",
       "      <td>100.00</td>\n",
       "    </tr>\n",
       "    <tr>\n",
       "      <th>223</th>\n",
       "      <td>2017-03-31</td>\n",
       "      <td>2.30</td>\n",
       "      <td>0.79</td>\n",
       "      <td>0.50</td>\n",
       "      <td>0.75</td>\n",
       "      <td>-1.30</td>\n",
       "      <td>-0.85</td>\n",
       "      <td>129.90</td>\n",
       "      <td>129.90</td>\n",
       "      <td>243.72</td>\n",
       "      <td>100.70</td>\n",
       "    </tr>\n",
       "    <tr>\n",
       "      <th>224</th>\n",
       "      <td>2017-06-30</td>\n",
       "      <td>1.70</td>\n",
       "      <td>1.04</td>\n",
       "      <td>0.50</td>\n",
       "      <td>1.01</td>\n",
       "      <td>-0.50</td>\n",
       "      <td>-0.85</td>\n",
       "      <td>130.40</td>\n",
       "      <td>130.40</td>\n",
       "      <td>244.18</td>\n",
       "      <td>102.40</td>\n",
       "    </tr>\n",
       "    <tr>\n",
       "      <th>225</th>\n",
       "      <td>2017-09-30</td>\n",
       "      <td>2.90</td>\n",
       "      <td>1.15</td>\n",
       "      <td>1.00</td>\n",
       "      <td>1.13</td>\n",
       "      <td>-0.50</td>\n",
       "      <td>-0.57</td>\n",
       "      <td>130.80</td>\n",
       "      <td>130.80</td>\n",
       "      <td>246.44</td>\n",
       "      <td>103.10</td>\n",
       "    </tr>\n",
       "    <tr>\n",
       "      <th>226</th>\n",
       "      <td>2017-12-31</td>\n",
       "      <td>3.90</td>\n",
       "      <td>1.30</td>\n",
       "      <td>1.25</td>\n",
       "      <td>1.46</td>\n",
       "      <td>-0.50</td>\n",
       "      <td>-0.06</td>\n",
       "      <td>130.80</td>\n",
       "      <td>130.80</td>\n",
       "      <td>247.85</td>\n",
       "      <td>103.30</td>\n",
       "    </tr>\n",
       "  </tbody>\n",
       "</table>\n",
       "</div>"
      ],
      "text/plain": [
       "    day_datetime  USA GDP QOQ  USA Fed Funds Q  Canada Overnight Rate  \\\n",
       "222 2016-12-31   2.50         0.54             0.50                     \n",
       "223 2017-03-31   2.30         0.79             0.50                     \n",
       "224 2017-06-30   1.70         1.04             0.50                     \n",
       "225 2017-09-30   2.90         1.15             1.00                     \n",
       "226 2017-12-31   3.90         1.30             1.25                     \n",
       "\n",
       "     USA 3-mo Bond Yield  Canada Output Gap  USA Nominal Output Gap  \\\n",
       "222 0.51                 -2.10              -1.05                     \n",
       "223 0.75                 -1.30              -0.85                     \n",
       "224 1.01                 -0.50              -0.85                     \n",
       "225 1.13                 -0.50              -0.57                     \n",
       "226 1.46                 -0.50              -0.06                     \n",
       "\n",
       "     Canada CPI  USA CPI  Canada Housing Price Index  USA Housing Price index  \n",
       "222 128.40      128.40   242.71                      100.00                    \n",
       "223 129.90      129.90   243.72                      100.70                    \n",
       "224 130.40      130.40   244.18                      102.40                    \n",
       "225 130.80      130.80   246.44                      103.10                    \n",
       "226 130.80      130.80   247.85                      103.30                    "
      ]
     },
     "execution_count": 20,
     "metadata": {},
     "output_type": "execute_result"
    }
   ],
   "source": [
    "X_test=test\n",
    "y_test=X_test.pop(target_column_name).values\n",
    "X_test.head()"
   ]
  },
  {
   "cell_type": "code",
   "execution_count": 21,
   "metadata": {
    "gather": {
     "logged": 1602630272948
    },
    "jupyter": {
     "outputs_hidden": false,
     "source_hidden": false
    },
    "nteract": {
     "transient": {
      "deleting": false
     }
    }
   },
   "outputs": [],
   "source": [
    "y_predictions, X_trans = fitted_model.forecast(X_test)"
   ]
  },
  {
   "cell_type": "code",
   "execution_count": 22,
   "metadata": {
    "gather": {
     "logged": 1602630275807
    },
    "jupyter": {
     "outputs_hidden": false,
     "source_hidden": false
    },
    "nteract": {
     "transient": {
      "deleting": false
     }
    }
   },
   "outputs": [],
   "source": [
    "import pandas as pd\n",
    "import numpy as np\n",
    "from pandas.tseries.frequencies import to_offset\n",
    "\n",
    "\n",
    "def align_outputs(y_predicted, X_trans, X_test, y_test, target_column_name,\n",
    "                  predicted_column_name='predicted',\n",
    "                  horizon_colname='horizon_origin'):\n",
    "    \"\"\"\n",
    "    Demonstrates how to get the output aligned to the inputs\n",
    "    using pandas indexes. Helps understand what happened if\n",
    "    the output's shape differs from the input shape, or if\n",
    "    the data got re-sorted by time and grain during forecasting.\n",
    "    Typical causes of misalignment are:\n",
    "    * we predicted some periods that were missing in actuals -> drop from eval\n",
    "    * model was asked to predict past max_horizon -> increase max horizon\n",
    "    * data at start of X_test was needed for lags -> provide previous periods\n",
    "    \"\"\"\n",
    "\n",
    "    if (horizon_colname in X_trans):\n",
    "        df_fcst = pd.DataFrame({predicted_column_name: y_predicted,\n",
    "                                horizon_colname: X_trans[horizon_colname]})\n",
    "    else:\n",
    "        df_fcst = pd.DataFrame({predicted_column_name: y_predicted})\n",
    "\n",
    "    # y and X outputs are aligned by forecast() function contract\n",
    "    df_fcst.index = X_trans.index\n",
    "\n",
    "    # align original X_test to y_test\n",
    "    X_test_full = X_test.copy()\n",
    "    X_test_full[target_column_name] = y_test\n",
    "\n",
    "    # X_test_full's index does not include origin, so reset for merge\n",
    "    df_fcst.reset_index(inplace=True)\n",
    "    X_test_full = X_test_full.reset_index().drop(columns='index')\n",
    "    together = df_fcst.merge(X_test_full, how='right')\n",
    "\n",
    "    # drop rows where prediction or actuals are nan\n",
    "    # happens because of missing actuals\n",
    "    # or at edges of time due to lags/rolling windows\n",
    "    clean = together[together[[target_column_name,\n",
    "                               predicted_column_name]].notnull().all(axis=1)]\n",
    "    return(clean)"
   ]
  },
  {
   "cell_type": "code",
   "execution_count": 23,
   "metadata": {
    "gather": {
     "logged": 1602630281890
    },
    "jupyter": {
     "outputs_hidden": false,
     "source_hidden": false
    },
    "nteract": {
     "transient": {
      "deleting": false
     }
    }
   },
   "outputs": [],
   "source": [
    "#from forecasting_helper import align_outputs\n",
    "df_all=align_outputs(y_predictions, X_trans, X_test, y_test, target_column_name)"
   ]
  },
  {
   "cell_type": "code",
   "execution_count": 24,
   "metadata": {
    "gather": {
     "logged": 1602630286368
    },
    "jupyter": {
     "outputs_hidden": false,
     "source_hidden": false
    },
    "nteract": {
     "transient": {
      "deleting": false
     }
    }
   },
   "outputs": [
    {
     "name": "stderr",
     "output_type": "stream",
     "text": [
      "WARNING - azureml.automl.runtime.shared.metrics.compute_metrics_regression is deprecated. Please use azureml.automl.runtime.shared.score.scoring.score_regression\n"
     ]
    },
    {
     "name": "stdout",
     "output_type": "stream",
     "text": [
      "[Test data scores]\n",
      "\n",
      "r2_score:   0.382\n",
      "root_mean_squared_log_error:   nan\n",
      "normalized_median_absolute_error:   0.066\n",
      "normalized_mean_absolute_error:   0.120\n",
      "normalized_root_mean_squared_log_error:   nan\n",
      "spearman_correlation:   -0.270\n",
      "root_mean_squared_error:   2.309\n",
      "normalized_root_mean_squared_error:   0.178\n",
      "explained_variance:   0.395\n",
      "mean_absolute_error:   1.559\n",
      "mean_absolute_percentage_error:   57.273\n",
      "median_absolute_error:   0.850\n"
     ]
    },
    {
     "data": {
      "image/png": "[encoded data removed]",
      "text/plain": [
       "<Figure size 432x288 with 1 Axes>"
      ]
     },
     "metadata": {
      "needs_background": "light"
     },
     "output_type": "display_data"
    }
   ],
   "source": [
    "from azureml.automl.core._vendor.automl.client.core.common import metrics\n",
    "from matplotlib import pyplot as plt\n",
    "from automl.client.core.common import constants\n",
    "\n",
    "# use automl metrics module\n",
    "scores = metrics.compute_metrics_regression(\n",
    "    df_all['predicted'],\n",
    "    df_all[target_column_name],\n",
    "    list(constants.Metric.SCALAR_REGRESSION_SET),\n",
    "    None, None, None)\n",
    "\n",
    "print(\"[Test data scores]\\n\")\n",
    "for key, value in scores.items():   \n",
    "    print('{}:   {:.3f}'.format(key, value))\n",
    "\n",
    "# Plot outputs\n",
    "%matplotlib inline\n",
    "test_pred = plt.scatter(df_all[target_column_name], df_all['predicted'], color='b')\n",
    "test_test = plt.scatter(df_all[target_column_name], df_all[target_column_name], color='g')\n",
    "plt.legend((test_pred, test_test), ('prediction', 'truth'), loc='upper left', fontsize=8)\n",
    "plt.show()"
   ]
  },
  {
   "cell_type": "code",
   "execution_count": 25,
   "metadata": {
    "gather": {
     "logged": 1602630346616
    },
    "jupyter": {
     "outputs_hidden": false,
     "source_hidden": false
    },
    "nteract": {
     "transient": {
      "deleting": false
     }
    }
   },
   "outputs": [
    {
     "name": "stdout",
     "output_type": "stream",
     "text": [
      "AutoMLc574620d330\n"
     ]
    }
   ],
   "source": [
    "description='AutoML OG forecaster'\n",
    "tags=None\n",
    "model=remote_run.register_model(model_name=model_name, description=description, tags=tags)\n",
    "print(remote_run.model_id)"
   ]
  },
  {
   "cell_type": "code",
   "execution_count": 26,
   "metadata": {
    "gather": {
     "logged": 1602630358017
    },
    "jupyter": {
     "outputs_hidden": false,
     "source_hidden": false
    },
    "nteract": {
     "transient": {
      "deleting": false
     }
    }
   },
   "outputs": [],
   "source": [
    "script_file_name='score_fcast.py'\n",
    "best_run.download_file('outputs/scoring_file_v_1_0_0.py',script_file_name)"
   ]
  },
  {
   "cell_type": "code",
   "execution_count": 27,
   "metadata": {
    "gather": {
     "logged": 1602630699693
    },
    "jupyter": {
     "outputs_hidden": false,
     "source_hidden": false
    },
    "nteract": {
     "transient": {
      "deleting": false
     }
    }
   },
   "outputs": [
    {
     "name": "stdout",
     "output_type": "stream",
     "text": [
      "automl-og-forecast-03\n",
      "Tips: You can try get_logs(): https://aka.ms/debugimage#dockerlog or local deployment: https://aka.ms/debugimage#debug-locally to debug if deployment takes longer than 10 minutes.\n",
      "Running...........................................\n",
      "Succeeded\n",
      "ACI service creation operation finished, operation \"Succeeded\"\n",
      "Healthy\n"
     ]
    },
    {
     "data": {
      "text/plain": [
       "'2020-10-22T23:47:06,456036693+00:00 - iot-server/run \\n2020-10-22T23:47:06,468369683+00:00 - gunicorn/run \\n2020-10-22T23:47:06,477315476+00:00 - nginx/run \\n/usr/sbin/nginx: /azureml-envs/azureml_912ebce86aa851a4f789bc2c01e320a3/lib/libcrypto.so.1.0.0: no version information available (required by /usr/sbin/nginx)\\n/usr/sbin/nginx: /azureml-envs/azureml_912ebce86aa851a4f789bc2c01e320a3/lib/libcrypto.so.1.0.0: no version information available (required by /usr/sbin/nginx)\\n/usr/sbin/nginx: /azureml-envs/azureml_912ebce86aa851a4f789bc2c01e320a3/lib/libssl.so.1.0.0: no version information available (required by /usr/sbin/nginx)\\n/usr/sbin/nginx: /azureml-envs/azureml_912ebce86aa851a4f789bc2c01e320a3/lib/libssl.so.1.0.0: no version information available (required by /usr/sbin/nginx)\\n/usr/sbin/nginx: /azureml-envs/azureml_912ebce86aa851a4f789bc2c01e320a3/lib/libssl.so.1.0.0: no version information available (required by /usr/sbin/nginx)\\n2020-10-22T23:47:06,486122469+00:00 - rsyslog/run \\nrsyslogd: /azureml-envs/azureml_912ebce86aa851a4f789bc2c01e320a3/lib/libuuid.so.1: no version information available (required by rsyslogd)\\nEdgeHubConnectionString and IOTEDGE_IOTHUBHOSTNAME are not set. Exiting...\\n2020-10-22T23:47:06,632828249+00:00 - iot-server/finish 1 0\\n2020-10-22T23:47:06,634169248+00:00 - Exit code 1 is normal. Not restarting iot-server.\\nStarting gunicorn 19.9.0\\nListening at: http://127.0.0.1:31311 (14)\\nUsing worker: sync\\nworker timeout is set to 300\\nBooting worker with pid: 40\\nSPARK_HOME not set. Skipping PySpark Initialization.\\nGenerating new fontManager, this may take some time...\\nInitializing logger\\n2020-10-22 23:47:08,850 | root | INFO | Starting up app insights client\\nStarting up app insights client\\n2020-10-22 23:47:08,850 | root | INFO | Starting up request id generator\\nStarting up request id generator\\n2020-10-22 23:47:08,850 | root | INFO | Starting up app insight hooks\\nStarting up app insight hooks\\n2020-10-22 23:47:08,850 | root | INFO | Invoking user\\'s init function\\nInvoking user\\'s init function\\n2020-10-22 23:47:10,206 | root | INFO | Users\\'s init has completed successfully\\nUsers\\'s init has completed successfully\\n/azureml-envs/azureml_912ebce86aa851a4f789bc2c01e320a3/lib/python3.6/site-packages/sklearn/externals/joblib/__init__.py:15: FutureWarning: sklearn.externals.joblib is deprecated in 0.21 and will be removed in 0.23. Please import this functionality directly from joblib, which can be installed with: pip install joblib. If this warning is raised when loading pickled models, you may need to re-serialize those models with scikit-learn 0.21+.\\n  warnings.warn(msg, category=FutureWarning)\\n2020-10-22 23:47:10,208 | root | INFO | Skipping middleware: dbg_model_info as it\\'s not enabled.\\nSkipping middleware: dbg_model_info as it\\'s not enabled.\\n2020-10-22 23:47:10,208 | root | INFO | Skipping middleware: dbg_resource_usage as it\\'s not enabled.\\nSkipping middleware: dbg_resource_usage as it\\'s not enabled.\\n2020-10-22 23:47:10,210 | root | INFO | Scoring timeout is found from os.environ: 60000 ms\\nScoring timeout is found from os.environ: 60000 ms\\n2020-10-22 23:47:15,770 | root | INFO | 200\\n200\\n127.0.0.1 - - [22/Oct/2020:23:47:15 +0000] \"GET /swagger.json HTTP/1.0\" 200 2902 \"-\" \"Go-http-client/1.1\"\\n2020-10-22 23:47:18,843 | root | INFO | 200\\n200\\n127.0.0.1 - - [22/Oct/2020:23:47:18 +0000] \"GET /swagger.json HTTP/1.0\" 200 2902 \"-\" \"Go-http-client/1.1\"\\n'"
      ]
     },
     "execution_count": 27,
     "metadata": {},
     "output_type": "execute_result"
    }
   ],
   "source": [
    "from azureml.core.model import InferenceConfig\n",
    "from azureml.core.webservice import AciWebservice\n",
    "from azureml.core.webservice import Webservice\n",
    "from azureml.core.model import Model\n",
    "\n",
    "inference_config = InferenceConfig(environment = best_run.get_environment(), entry_script = script_file_name)\n",
    "aciconfig = AciWebservice.deploy_configuration(cpu_cores = 1,memory_gb = 2,tags = {'type': \"automl-forecasting\"},description = \"Automl forecasting sample service\")\n",
    "aci_service_name = 'automl-og-forecast-03'\n",
    "print(aci_service_name)\n",
    "aci_service = Model.deploy(ws, aci_service_name, [model], inference_config, aciconfig)\n",
    "\n",
    "aci_service.wait_for_deployment(True)\n",
    "print(aci_service.state)\n",
    "aci_service.get_logs()"
   ]
  },
  {
   "cell_type": "markdown",
   "metadata": {
    "nteract": {
     "transient": {
      "deleting": false
     }
    }
   },
   "source": [
    "from azureml.core.model import InferenceConfig\n",
    "from azureml.core.webservice import AciWebservice\n",
    "from azureml.core.webservice import Webservice\n",
    "from azureml.core.model import model_name_validation\n",
    "\n",
    "InferenceConfig=InferenceConfig(enviroment=best_run.get_enviroment(), entry_script=script_file_name)\n",
    "\n",
    "aciconfig=AciWebservice.deploy_configuration(cpu_cores=1, memory_gb=2, tags={'type':\"automl-forecasting\"}, description='Automl forecasting sample service')\n",
    "\n",
    "aci_service_name='automl-og-forecast-01'\n",
    "print(aci_service_name)\n",
    "aci_service=Model.deploy(ws, aci_service_name, [model], inference_config, aciconfig)\n",
    "aci_service.wait_for_deployment(True)\n",
    "print(aci_service.state)\n"
   ]
  },
  {
   "cell_type": "code",
   "execution_count": 28,
   "metadata": {
    "gather": {
     "logged": 1602631359271
    },
    "jupyter": {
     "outputs_hidden": false,
     "source_hidden": false
    },
    "nteract": {
     "transient": {
      "deleting": false
     }
    }
   },
   "outputs": [],
   "source": [
    "import json\n",
    "# The request data frame needs to have y_query column which corresponds to query.\n",
    "X_query = test.copy()\n",
    "X_query['y_query'] = np.NaN\n",
    "\n",
    "# We have to convert datetime to string, because Timestamps cannot be serialized to JSON.\n",
    "X_query[time_column_name] = X_query[time_column_name].astype(str)\n",
    "\n",
    "# The Service object accept the complex dictionary, which is internally converted to JSON string.\n",
    "# The section 'data' contains the data frame in the form of dictionary.\n",
    "test_sample = json.dumps({'data': X_query.to_dict(orient='records')})\n",
    "response = aci_service.run(input_data = test_sample)\n",
    "\n",
    "# translate from networkese to datascientese\n",
    "try:\n",
    "    res_dict = json.loads(response)\n",
    "    y_fcst_all = pd.DataFrame(res_dict['index'])\n",
    "    y_fcst_all[time_column_name] = pd.to_datetime(y_fcst_all[time_column_name], unit = 'ms')\n",
    "    y_fcst_all['forecast'] = res_dict['forecast']   \n",
    "\n",
    "except:\n",
    "    print(res_dict)\n"
   ]
  },
  {
   "cell_type": "markdown",
   "metadata": {
    "nteract": {
     "transient": {
      "deleting": false
     }
    }
   },
   "source": [
    "import json\n",
    "X_query=X_test.copy()\n",
    "X_query[time_column_name]=X_query[time_column_name].astype(str)\n",
    "test_sample=json.dumps({'data':X_query.to_dict(orient='records')})\n",
    "response=aci_service.run(input_data=test_sample)\n",
    "try:\n",
    "    res_dict=json.loads(response)\n",
    "    y_fcst_all=pd.DataFrame(res_dict['index'])\n",
    "    y_fcst_all[time_column_name]=pd.to_datetime(y_fcst_all[time_column_name], unit='ms')\n",
    "    y_fcst_all['forecast']=res_dict['forecast']\n",
    "except:\n",
    "    print(res_dict)"
   ]
  },
  {
   "cell_type": "code",
   "execution_count": 29,
   "metadata": {
    "gather": {
     "logged": 1602631367310
    },
    "jupyter": {
     "outputs_hidden": false,
     "source_hidden": false
    },
    "nteract": {
     "transient": {
      "deleting": false
     }
    }
   },
   "outputs": [
    {
     "data": {
      "text/html": [
       "<div>\n",
       "<style scoped>\n",
       "    .dataframe tbody tr th:only-of-type {\n",
       "        vertical-align: middle;\n",
       "    }\n",
       "\n",
       "    .dataframe tbody tr th {\n",
       "        vertical-align: top;\n",
       "    }\n",
       "\n",
       "    .dataframe thead th {\n",
       "        text-align: right;\n",
       "    }\n",
       "</style>\n",
       "<table border=\"1\" class=\"dataframe\">\n",
       "  <thead>\n",
       "    <tr style=\"text-align: right;\">\n",
       "      <th></th>\n",
       "      <th>day_datetime</th>\n",
       "      <th>_automl_dummy_grain_col</th>\n",
       "      <th>forecast</th>\n",
       "    </tr>\n",
       "  </thead>\n",
       "  <tbody>\n",
       "    <tr>\n",
       "      <th>0</th>\n",
       "      <td>2016-12-31</td>\n",
       "      <td>_automl_dummy_grain_col</td>\n",
       "      <td>1.00</td>\n",
       "    </tr>\n",
       "    <tr>\n",
       "      <th>1</th>\n",
       "      <td>2017-03-31</td>\n",
       "      <td>_automl_dummy_grain_col</td>\n",
       "      <td>1.17</td>\n",
       "    </tr>\n",
       "    <tr>\n",
       "      <th>2</th>\n",
       "      <td>2017-06-30</td>\n",
       "      <td>_automl_dummy_grain_col</td>\n",
       "      <td>0.97</td>\n",
       "    </tr>\n",
       "    <tr>\n",
       "      <th>3</th>\n",
       "      <td>2017-09-30</td>\n",
       "      <td>_automl_dummy_grain_col</td>\n",
       "      <td>1.08</td>\n",
       "    </tr>\n",
       "    <tr>\n",
       "      <th>4</th>\n",
       "      <td>2017-12-31</td>\n",
       "      <td>_automl_dummy_grain_col</td>\n",
       "      <td>1.59</td>\n",
       "    </tr>\n",
       "    <tr>\n",
       "      <th>5</th>\n",
       "      <td>2018-03-31</td>\n",
       "      <td>_automl_dummy_grain_col</td>\n",
       "      <td>1.68</td>\n",
       "    </tr>\n",
       "    <tr>\n",
       "      <th>6</th>\n",
       "      <td>2018-06-30</td>\n",
       "      <td>_automl_dummy_grain_col</td>\n",
       "      <td>1.38</td>\n",
       "    </tr>\n",
       "    <tr>\n",
       "      <th>7</th>\n",
       "      <td>2018-09-30</td>\n",
       "      <td>_automl_dummy_grain_col</td>\n",
       "      <td>1.46</td>\n",
       "    </tr>\n",
       "    <tr>\n",
       "      <th>8</th>\n",
       "      <td>2018-12-31</td>\n",
       "      <td>_automl_dummy_grain_col</td>\n",
       "      <td>1.54</td>\n",
       "    </tr>\n",
       "    <tr>\n",
       "      <th>9</th>\n",
       "      <td>2019-03-31</td>\n",
       "      <td>_automl_dummy_grain_col</td>\n",
       "      <td>1.05</td>\n",
       "    </tr>\n",
       "    <tr>\n",
       "      <th>10</th>\n",
       "      <td>2019-06-30</td>\n",
       "      <td>_automl_dummy_grain_col</td>\n",
       "      <td>0.79</td>\n",
       "    </tr>\n",
       "    <tr>\n",
       "      <th>11</th>\n",
       "      <td>2019-09-30</td>\n",
       "      <td>_automl_dummy_grain_col</td>\n",
       "      <td>1.87</td>\n",
       "    </tr>\n",
       "    <tr>\n",
       "      <th>12</th>\n",
       "      <td>2019-12-31</td>\n",
       "      <td>_automl_dummy_grain_col</td>\n",
       "      <td>1.82</td>\n",
       "    </tr>\n",
       "    <tr>\n",
       "      <th>13</th>\n",
       "      <td>2020-03-31</td>\n",
       "      <td>_automl_dummy_grain_col</td>\n",
       "      <td>-2.10</td>\n",
       "    </tr>\n",
       "  </tbody>\n",
       "</table>\n",
       "</div>"
      ],
      "text/plain": [
       "   day_datetime  _automl_dummy_grain_col  forecast\n",
       "0  2016-12-31    _automl_dummy_grain_col 1.00     \n",
       "1  2017-03-31    _automl_dummy_grain_col 1.17     \n",
       "2  2017-06-30    _automl_dummy_grain_col 0.97     \n",
       "3  2017-09-30    _automl_dummy_grain_col 1.08     \n",
       "4  2017-12-31    _automl_dummy_grain_col 1.59     \n",
       "5  2018-03-31    _automl_dummy_grain_col 1.68     \n",
       "6  2018-06-30    _automl_dummy_grain_col 1.38     \n",
       "7  2018-09-30    _automl_dummy_grain_col 1.46     \n",
       "8  2018-12-31    _automl_dummy_grain_col 1.54     \n",
       "9  2019-03-31    _automl_dummy_grain_col 1.05     \n",
       "10 2019-06-30    _automl_dummy_grain_col 0.79     \n",
       "11 2019-09-30    _automl_dummy_grain_col 1.87     \n",
       "12 2019-12-31    _automl_dummy_grain_col 1.82     \n",
       "13 2020-03-31    _automl_dummy_grain_col -2.10    "
      ]
     },
     "execution_count": 29,
     "metadata": {},
     "output_type": "execute_result"
    }
   ],
   "source": [
    "y_fcst_all.head(n_test_periods)"
   ]
  },
  {
   "cell_type": "code",
   "execution_count": 30,
   "metadata": {
    "gather": {
     "logged": 1603338121035
    },
    "jupyter": {
     "outputs_hidden": false,
     "source_hidden": false
    },
    "nteract": {
     "transient": {
      "deleting": false
     }
    }
   },
   "outputs": [
    {
     "data": {
      "text/html": [
       "<div>\n",
       "<style scoped>\n",
       "    .dataframe tbody tr th:only-of-type {\n",
       "        vertical-align: middle;\n",
       "    }\n",
       "\n",
       "    .dataframe tbody tr th {\n",
       "        vertical-align: top;\n",
       "    }\n",
       "\n",
       "    .dataframe thead th {\n",
       "        text-align: right;\n",
       "    }\n",
       "</style>\n",
       "<table border=\"1\" class=\"dataframe\">\n",
       "  <thead>\n",
       "    <tr style=\"text-align: right;\">\n",
       "      <th></th>\n",
       "      <th>day_datetime</th>\n",
       "      <th>_automl_dummy_grain_col</th>\n",
       "      <th>forecast</th>\n",
       "      <th>real</th>\n",
       "    </tr>\n",
       "  </thead>\n",
       "  <tbody>\n",
       "    <tr>\n",
       "      <th>0</th>\n",
       "      <td>2016-12-31</td>\n",
       "      <td>_automl_dummy_grain_col</td>\n",
       "      <td>1.00</td>\n",
       "      <td>2.27</td>\n",
       "    </tr>\n",
       "    <tr>\n",
       "      <th>1</th>\n",
       "      <td>2017-03-31</td>\n",
       "      <td>_automl_dummy_grain_col</td>\n",
       "      <td>1.17</td>\n",
       "      <td>4.68</td>\n",
       "    </tr>\n",
       "    <tr>\n",
       "      <th>2</th>\n",
       "      <td>2017-06-30</td>\n",
       "      <td>_automl_dummy_grain_col</td>\n",
       "      <td>0.97</td>\n",
       "      <td>4.80</td>\n",
       "    </tr>\n",
       "    <tr>\n",
       "      <th>3</th>\n",
       "      <td>2017-09-30</td>\n",
       "      <td>_automl_dummy_grain_col</td>\n",
       "      <td>1.08</td>\n",
       "      <td>1.44</td>\n",
       "    </tr>\n",
       "    <tr>\n",
       "      <th>4</th>\n",
       "      <td>2017-12-31</td>\n",
       "      <td>_automl_dummy_grain_col</td>\n",
       "      <td>1.59</td>\n",
       "      <td>1.74</td>\n",
       "    </tr>\n",
       "    <tr>\n",
       "      <th>5</th>\n",
       "      <td>2018-03-31</td>\n",
       "      <td>_automl_dummy_grain_col</td>\n",
       "      <td>1.68</td>\n",
       "      <td>2.20</td>\n",
       "    </tr>\n",
       "    <tr>\n",
       "      <th>6</th>\n",
       "      <td>2018-06-30</td>\n",
       "      <td>_automl_dummy_grain_col</td>\n",
       "      <td>1.38</td>\n",
       "      <td>1.57</td>\n",
       "    </tr>\n",
       "    <tr>\n",
       "      <th>7</th>\n",
       "      <td>2018-09-30</td>\n",
       "      <td>_automl_dummy_grain_col</td>\n",
       "      <td>1.46</td>\n",
       "      <td>2.45</td>\n",
       "    </tr>\n",
       "    <tr>\n",
       "      <th>8</th>\n",
       "      <td>2018-12-31</td>\n",
       "      <td>_automl_dummy_grain_col</td>\n",
       "      <td>1.54</td>\n",
       "      <td>0.98</td>\n",
       "    </tr>\n",
       "    <tr>\n",
       "      <th>9</th>\n",
       "      <td>2019-03-31</td>\n",
       "      <td>_automl_dummy_grain_col</td>\n",
       "      <td>1.05</td>\n",
       "      <td>1.16</td>\n",
       "    </tr>\n",
       "    <tr>\n",
       "      <th>10</th>\n",
       "      <td>2019-06-30</td>\n",
       "      <td>_automl_dummy_grain_col</td>\n",
       "      <td>0.79</td>\n",
       "      <td>3.24</td>\n",
       "    </tr>\n",
       "    <tr>\n",
       "      <th>11</th>\n",
       "      <td>2019-09-30</td>\n",
       "      <td>_automl_dummy_grain_col</td>\n",
       "      <td>1.87</td>\n",
       "      <td>1.12</td>\n",
       "    </tr>\n",
       "    <tr>\n",
       "      <th>12</th>\n",
       "      <td>2019-12-31</td>\n",
       "      <td>_automl_dummy_grain_col</td>\n",
       "      <td>1.82</td>\n",
       "      <td>0.60</td>\n",
       "    </tr>\n",
       "    <tr>\n",
       "      <th>13</th>\n",
       "      <td>2020-03-31</td>\n",
       "      <td>_automl_dummy_grain_col</td>\n",
       "      <td>-2.10</td>\n",
       "      <td>-8.16</td>\n",
       "    </tr>\n",
       "  </tbody>\n",
       "</table>\n",
       "</div>"
      ],
      "text/plain": [
       "   day_datetime  _automl_dummy_grain_col  forecast  real\n",
       "0  2016-12-31    _automl_dummy_grain_col 1.00      2.27 \n",
       "1  2017-03-31    _automl_dummy_grain_col 1.17      4.68 \n",
       "2  2017-06-30    _automl_dummy_grain_col 0.97      4.80 \n",
       "3  2017-09-30    _automl_dummy_grain_col 1.08      1.44 \n",
       "4  2017-12-31    _automl_dummy_grain_col 1.59      1.74 \n",
       "5  2018-03-31    _automl_dummy_grain_col 1.68      2.20 \n",
       "6  2018-06-30    _automl_dummy_grain_col 1.38      1.57 \n",
       "7  2018-09-30    _automl_dummy_grain_col 1.46      2.45 \n",
       "8  2018-12-31    _automl_dummy_grain_col 1.54      0.98 \n",
       "9  2019-03-31    _automl_dummy_grain_col 1.05      1.16 \n",
       "10 2019-06-30    _automl_dummy_grain_col 0.79      3.24 \n",
       "11 2019-09-30    _automl_dummy_grain_col 1.87      1.12 \n",
       "12 2019-12-31    _automl_dummy_grain_col 1.82      0.60 \n",
       "13 2020-03-31    _automl_dummy_grain_col -2.10     -8.16"
      ]
     },
     "execution_count": 30,
     "metadata": {},
     "output_type": "execute_result"
    }
   ],
   "source": [
    "compare=y_fcst_all.head(n_test_periods)\n",
    "compare[\"real\"]=df_all[target_column_name]\n",
    "compare"
   ]
  },
  {
   "cell_type": "code",
   "execution_count": 32,
   "metadata": {},
   "outputs": [
    {
     "data": {
      "image/png": "[encoded data removed]",
      "text/plain": [
       "<Figure size 432x288 with 1 Axes>"
      ]
     },
     "metadata": {
      "needs_background": "light"
     },
     "output_type": "display_data"
    }
   ],
   "source": [
    "import matplotlib.dates as mdates\n",
    "fig = plt.figure()\n",
    "axes = fig.add_axes([0.2,0.2,0.8,0.8])\n",
    "axes.plot(compare['day_datetime'],compare['real'],'r',marker='o',label='Real')\n",
    "axes.plot(compare['day_datetime'],compare['forecast'],marker='o',label='Predictions')\n",
    "axes.set_xlabel('Dates')\n",
    "axes.set_ylabel('GDP')\n",
    "axes.set_title('Canadian GDP')\n",
    "axes.legend()\n",
    "plt.tight_layout\n",
    "fig.autofmt_xdate()\n",
    "# This format code is not working\\n\",\n",
    "#axes.fmt_xdata = mdates.DateFormatter('%YY-%mm')\\n\",\n",
    "# Use a more precise date string for the x axis locations in the toolbar.\\n\",\n",
    "plt.show()"
   ]
  }
 ],
 "metadata": {
  "kernel_info": {
   "name": "python3-azureml"
  },
  "kernelspec": {
   "display_name": "Python 3.6 - AzureML",
   "language": "python",
   "name": "python3-azureml"
  },
  "language_info": {
   "codemirror_mode": {
    "name": "ipython",
    "version": 3
   },
   "file_extension": ".py",
   "mimetype": "text/x-python",
   "name": "python",
   "nbconvert_exporter": "python",
   "pygments_lexer": "ipython3",
   "version": "3.6.9"
  },
  "nteract": {
   "version": "nteract-front-end@1.0.0"
  }
 },
 "nbformat": 4,
 "nbformat_minor": 2
}
