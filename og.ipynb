{
  "cells": [
    {
      "cell_type": "code",
      "source": [
        "import azureml.core\n",
        "import pandas as pd\n",
        "import numpy as np\n",
        "import logging\n",
        "\n",
        "from azureml.core.workspace import Workspace\n",
        "from azureml.core.experiment import Experiment\n",
        "from azureml.train.automl import AutoMLConfig\n",
        "from azureml.automl.core.featurization import FeaturizationConfig\n"
      ],
      "outputs": [],
      "execution_count": 96,
      "metadata": {
        "gather": {
          "logged": 1603798112321
        }
      }
    },
    {
      "cell_type": "code",
      "source": [
        "!pip install --upgrade azureml-train-automl-client"
      ],
      "outputs": [
        {
          "output_type": "stream",
          "name": "stdout",
          "text": [
            "Collecting azureml-train-automl-client\n",
            "  Downloading azureml_train_automl_client-1.17.0-py3-none-any.whl (108 kB)\n",
            "\u001b[K     |████████████████████████████████| 108 kB 12.5 MB/s eta 0:00:01\n",
            "\u001b[?25hCollecting azureml-automl-core~=1.17.0\n",
            "  Downloading azureml_automl_core-1.17.0-py3-none-any.whl (181 kB)\n",
            "\u001b[K     |████████████████████████████████| 181 kB 20.3 MB/s eta 0:00:01\n",
            "\u001b[?25hCollecting azureml-dataset-runtime~=1.17.0\n",
            "  Downloading azureml_dataset_runtime-1.17.0-py3-none-any.whl (3.4 kB)\n",
            "Collecting azureml-core~=1.17.0\n",
            "  Downloading azureml_core-1.17.0-py3-none-any.whl (2.1 MB)\n",
            "\u001b[K     |████████████████████████████████| 2.1 MB 37.1 MB/s eta 0:00:01\n",
            "\u001b[?25hCollecting azureml-telemetry~=1.17.0\n",
            "  Downloading azureml_telemetry-1.17.0-py3-none-any.whl (30 kB)\n",
            "Collecting azureml-dataprep<2.5.0a,>=2.4.0a\n",
            "  Downloading azureml_dataprep-2.4.0-py3-none-any.whl (28.2 MB)\n",
            "\u001b[K     |████████████████████████████████| 28.2 MB 33 kB/s s eta 0:00:01\n",
            "\u001b[?25hRequirement already satisfied, skipping upgrade: pyarrow<2.0.0,>=0.17.0 in /anaconda/envs/azureml_py36/lib/python3.6/site-packages (from azureml-dataset-runtime~=1.17.0->azureml-train-automl-client) (1.0.1)\n",
            "Requirement already satisfied, skipping upgrade: azure-mgmt-containerregistry>=2.0.0 in /anaconda/envs/azureml_py36/lib/python3.6/site-packages (from azureml-core~=1.17.0->azureml-train-automl-client) (2.8.0)\n",
            "Requirement already satisfied, skipping upgrade: azure-common>=1.1.12 in /anaconda/envs/azureml_py36/lib/python3.6/site-packages (from azureml-core~=1.17.0->azureml-train-automl-client) (1.1.25)\n",
            "Requirement already satisfied, skipping upgrade: azure-mgmt-resource<15.0.0,>=1.2.1 in /anaconda/envs/azureml_py36/lib/python3.6/site-packages (from azureml-core~=1.17.0->azureml-train-automl-client) (10.2.0)\n",
            "Requirement already satisfied, skipping upgrade: azure-graphrbac<1.0.0,>=0.40.0 in /anaconda/envs/azureml_py36/lib/python3.6/site-packages (from azureml-core~=1.17.0->azureml-train-automl-client) (0.61.1)\n",
            "Requirement already satisfied, skipping upgrade: ruamel.yaml>=0.15.35 in /anaconda/envs/azureml_py36/lib/python3.6/site-packages (from azureml-core~=1.17.0->azureml-train-automl-client) (0.16.12)\n",
            "Requirement already satisfied, skipping upgrade: azure-mgmt-authorization<1.0.0,>=0.40.0 in /anaconda/envs/azureml_py36/lib/python3.6/site-packages (from azureml-core~=1.17.0->azureml-train-automl-client) (0.61.0)\n",
            "Requirement already satisfied, skipping upgrade: python-dateutil>=2.7.3 in /anaconda/envs/azureml_py36/lib/python3.6/site-packages (from azureml-core~=1.17.0->azureml-train-automl-client) (2.8.1)\n",
            "Requirement already satisfied, skipping upgrade: PyJWT in /anaconda/envs/azureml_py36/lib/python3.6/site-packages (from azureml-core~=1.17.0->azureml-train-automl-client) (1.7.1)\n",
            "Requirement already satisfied, skipping upgrade: requests>=2.19.1 in /anaconda/envs/azureml_py36/lib/python3.6/site-packages (from azureml-core~=1.17.0->azureml-train-automl-client) (2.24.0)\n",
            "Requirement already satisfied, skipping upgrade: backports.tempfile in /anaconda/envs/azureml_py36/lib/python3.6/site-packages (from azureml-core~=1.17.0->azureml-train-automl-client) (1.0)\n",
            "Requirement already satisfied, skipping upgrade: msrestazure>=0.4.33 in /anaconda/envs/azureml_py36/lib/python3.6/site-packages (from azureml-core~=1.17.0->azureml-train-automl-client) (0.6.4)\n",
            "Requirement already satisfied, skipping upgrade: contextlib2 in /anaconda/envs/azureml_py36/lib/python3.6/site-packages (from azureml-core~=1.17.0->azureml-train-automl-client) (0.6.0.post1)\n",
            "Requirement already satisfied, skipping upgrade: pathspec in /anaconda/envs/azureml_py36/lib/python3.6/site-packages (from azureml-core~=1.17.0->azureml-train-automl-client) (0.8.0)\n",
            "Requirement already satisfied, skipping upgrade: jmespath in /anaconda/envs/azureml_py36/lib/python3.6/site-packages (from azureml-core~=1.17.0->azureml-train-automl-client) (0.10.0)\n",
            "Requirement already satisfied, skipping upgrade: urllib3>=1.23 in /anaconda/envs/azureml_py36/lib/python3.6/site-packages (from azureml-core~=1.17.0->azureml-train-automl-client) (1.25.10)\n",
            "Requirement already satisfied, skipping upgrade: SecretStorage in /anaconda/envs/azureml_py36/lib/python3.6/site-packages (from azureml-core~=1.17.0->azureml-train-automl-client) (3.1.2)\n",
            "Requirement already satisfied, skipping upgrade: azure-mgmt-keyvault<7.0.0,>=0.40.0 in /anaconda/envs/azureml_py36/lib/python3.6/site-packages (from azureml-core~=1.17.0->azureml-train-automl-client) (2.2.0)\n",
            "Requirement already satisfied, skipping upgrade: ndg-httpsclient in /anaconda/envs/azureml_py36/lib/python3.6/site-packages (from azureml-core~=1.17.0->azureml-train-automl-client) (0.5.1)\n",
            "Requirement already satisfied, skipping upgrade: azure-mgmt-storage<16.0.0,>=1.5.0 in /anaconda/envs/azureml_py36/lib/python3.6/site-packages (from azureml-core~=1.17.0->azureml-train-automl-client) (11.2.0)\n",
            "Requirement already satisfied, skipping upgrade: cryptography!=1.9,!=2.0.*,!=2.1.*,!=2.2.* in /anaconda/envs/azureml_py36/lib/python3.6/site-packages (from azureml-core~=1.17.0->azureml-train-automl-client) (3.1.1)\n",
            "Requirement already satisfied, skipping upgrade: pytz in /anaconda/envs/azureml_py36/lib/python3.6/site-packages (from azureml-core~=1.17.0->azureml-train-automl-client) (2020.1)\n",
            "Requirement already satisfied, skipping upgrade: jsonpickle in /anaconda/envs/azureml_py36/lib/python3.6/site-packages (from azureml-core~=1.17.0->azureml-train-automl-client) (1.4.1)\n",
            "Requirement already satisfied, skipping upgrade: msrest>=0.5.1 in /anaconda/envs/azureml_py36/lib/python3.6/site-packages (from azureml-core~=1.17.0->azureml-train-automl-client) (0.6.19)\n",
            "Requirement already satisfied, skipping upgrade: docker in /anaconda/envs/azureml_py36/lib/python3.6/site-packages (from azureml-core~=1.17.0->azureml-train-automl-client) (4.3.1)\n",
            "Requirement already satisfied, skipping upgrade: adal>=1.2.0 in /anaconda/envs/azureml_py36/lib/python3.6/site-packages (from azureml-core~=1.17.0->azureml-train-automl-client) (1.2.4)\n",
            "Requirement already satisfied, skipping upgrade: pyopenssl<20.0.0 in /anaconda/envs/azureml_py36/lib/python3.6/site-packages (from azureml-core~=1.17.0->azureml-train-automl-client) (19.1.0)\n",
            "Requirement already satisfied, skipping upgrade: applicationinsights in /anaconda/envs/azureml_py36/lib/python3.6/site-packages (from azureml-telemetry~=1.17.0->azureml-train-automl-client) (0.11.9)\n",
            "Requirement already satisfied, skipping upgrade: dotnetcore2<3.0.0,>=2.1.14 in /anaconda/envs/azureml_py36/lib/python3.6/site-packages (from azureml-dataprep<2.5.0a,>=2.4.0a->azureml-dataset-runtime~=1.17.0->azureml-train-automl-client) (2.1.16)\n",
            "Collecting azureml-dataprep-rslex<1.3.0a,>=1.2.0dev0\n",
            "  Downloading azureml_dataprep_rslex-1.2.0-cp36-cp36m-manylinux2010_x86_64.whl (7.9 MB)\n",
            "\u001b[K     |████████████████████████████████| 7.9 MB 62.2 MB/s eta 0:00:01\n",
            "\u001b[?25hCollecting azureml-dataprep-native<25.0.0,>=24.0.0\n",
            "  Downloading azureml_dataprep_native-24.0.0-cp36-cp36m-manylinux1_x86_64.whl (1.3 MB)\n",
            "\u001b[K     |████████████████████████████████| 1.3 MB 68.3 MB/s eta 0:00:01\n",
            "\u001b[?25hRequirement already satisfied, skipping upgrade: cloudpickle<2.0.0,>=1.1.0 in /anaconda/envs/azureml_py36/lib/python3.6/site-packages (from azureml-dataprep<2.5.0a,>=2.4.0a->azureml-dataset-runtime~=1.17.0->azureml-train-automl-client) (1.6.0)\n",
            "Requirement already satisfied, skipping upgrade: azure-identity<2.0.0,>=1.2.0 in /anaconda/envs/azureml_py36/lib/python3.6/site-packages (from azureml-dataprep<2.5.0a,>=2.4.0a->azureml-dataset-runtime~=1.17.0->azureml-train-automl-client) (1.4.0)\n",
            "Requirement already satisfied, skipping upgrade: numpy>=1.14 in /anaconda/envs/azureml_py36/lib/python3.6/site-packages (from pyarrow<2.0.0,>=0.17.0->azureml-dataset-runtime~=1.17.0->azureml-train-automl-client) (1.18.5)\n",
            "Requirement already satisfied, skipping upgrade: ruamel.yaml.clib>=0.1.2; platform_python_implementation == \"CPython\" and python_version < \"3.9\" in /anaconda/envs/azureml_py36/lib/python3.6/site-packages (from ruamel.yaml>=0.15.35->azureml-core~=1.17.0->azureml-train-automl-client) (0.2.2)\n",
            "Requirement already satisfied, skipping upgrade: six>=1.5 in /anaconda/envs/azureml_py36/lib/python3.6/site-packages (from python-dateutil>=2.7.3->azureml-core~=1.17.0->azureml-train-automl-client) (1.15.0)\n",
            "Requirement already satisfied, skipping upgrade: idna<3,>=2.5 in /anaconda/envs/azureml_py36/lib/python3.6/site-packages (from requests>=2.19.1->azureml-core~=1.17.0->azureml-train-automl-client) (2.10)\n",
            "Requirement already satisfied, skipping upgrade: certifi>=2017.4.17 in /anaconda/envs/azureml_py36/lib/python3.6/site-packages (from requests>=2.19.1->azureml-core~=1.17.0->azureml-train-automl-client) (2020.6.20)\n",
            "Requirement already satisfied, skipping upgrade: chardet<4,>=3.0.2 in /anaconda/envs/azureml_py36/lib/python3.6/site-packages (from requests>=2.19.1->azureml-core~=1.17.0->azureml-train-automl-client) (3.0.4)\n",
            "Requirement already satisfied, skipping upgrade: backports.weakref in /anaconda/envs/azureml_py36/lib/python3.6/site-packages (from backports.tempfile->azureml-core~=1.17.0->azureml-train-automl-client) (1.0.post1)\n",
            "Requirement already satisfied, skipping upgrade: jeepney>=0.4.2 in /anaconda/envs/azureml_py36/lib/python3.6/site-packages (from SecretStorage->azureml-core~=1.17.0->azureml-train-automl-client) (0.4.3)\n",
            "Requirement already satisfied, skipping upgrade: pyasn1>=0.1.1 in /anaconda/envs/azureml_py36/lib/python3.6/site-packages (from ndg-httpsclient->azureml-core~=1.17.0->azureml-train-automl-client) (0.4.8)\n",
            "Requirement already satisfied, skipping upgrade: cffi!=1.11.3,>=1.8 in /anaconda/envs/azureml_py36/lib/python3.6/site-packages (from cryptography!=1.9,!=2.0.*,!=2.1.*,!=2.2.*->azureml-core~=1.17.0->azureml-train-automl-client) (1.14.3)\n",
            "Requirement already satisfied, skipping upgrade: importlib-metadata in /anaconda/envs/azureml_py36/lib/python3.6/site-packages (from jsonpickle->azureml-core~=1.17.0->azureml-train-automl-client) (2.0.0)\n",
            "Requirement already satisfied, skipping upgrade: requests-oauthlib>=0.5.0 in /anaconda/envs/azureml_py36/lib/python3.6/site-packages (from msrest>=0.5.1->azureml-core~=1.17.0->azureml-train-automl-client) (1.3.0)\n",
            "Requirement already satisfied, skipping upgrade: isodate>=0.6.0 in /anaconda/envs/azureml_py36/lib/python3.6/site-packages (from msrest>=0.5.1->azureml-core~=1.17.0->azureml-train-automl-client) (0.6.0)\n",
            "Requirement already satisfied, skipping upgrade: websocket-client>=0.32.0 in /anaconda/envs/azureml_py36/lib/python3.6/site-packages (from docker->azureml-core~=1.17.0->azureml-train-automl-client) (0.57.0)\n",
            "Requirement already satisfied, skipping upgrade: distro>=1.2.0 in /anaconda/envs/azureml_py36/lib/python3.6/site-packages (from dotnetcore2<3.0.0,>=2.1.14->azureml-dataprep<2.5.0a,>=2.4.0a->azureml-dataset-runtime~=1.17.0->azureml-train-automl-client) (1.5.0)\n",
            "Requirement already satisfied, skipping upgrade: msal-extensions~=0.2.2 in /anaconda/envs/azureml_py36/lib/python3.6/site-packages (from azure-identity<2.0.0,>=1.2.0->azureml-dataprep<2.5.0a,>=2.4.0a->azureml-dataset-runtime~=1.17.0->azureml-train-automl-client) (0.2.2)\n",
            "Requirement already satisfied, skipping upgrade: azure-core<2.0.0,>=1.0.0 in /anaconda/envs/azureml_py36/lib/python3.6/site-packages (from azure-identity<2.0.0,>=1.2.0->azureml-dataprep<2.5.0a,>=2.4.0a->azureml-dataset-runtime~=1.17.0->azureml-train-automl-client) (1.8.1)\n",
            "Requirement already satisfied, skipping upgrade: msal<2.0.0,>=1.3.0 in /anaconda/envs/azureml_py36/lib/python3.6/site-packages (from azure-identity<2.0.0,>=1.2.0->azureml-dataprep<2.5.0a,>=2.4.0a->azureml-dataset-runtime~=1.17.0->azureml-train-automl-client) (1.5.0)\n",
            "Requirement already satisfied, skipping upgrade: pycparser in /anaconda/envs/azureml_py36/lib/python3.6/site-packages (from cffi!=1.11.3,>=1.8->cryptography!=1.9,!=2.0.*,!=2.1.*,!=2.2.*->azureml-core~=1.17.0->azureml-train-automl-client) (2.20)\n",
            "Requirement already satisfied, skipping upgrade: zipp>=0.5 in /anaconda/envs/azureml_py36/lib/python3.6/site-packages (from importlib-metadata->jsonpickle->azureml-core~=1.17.0->azureml-train-automl-client) (3.2.0)\n",
            "Requirement already satisfied, skipping upgrade: oauthlib>=3.0.0 in /anaconda/envs/azureml_py36/lib/python3.6/site-packages (from requests-oauthlib>=0.5.0->msrest>=0.5.1->azureml-core~=1.17.0->azureml-train-automl-client) (3.1.0)\n",
            "Requirement already satisfied, skipping upgrade: portalocker~=1.0; platform_system != \"Windows\" in /anaconda/envs/azureml_py36/lib/python3.6/site-packages (from msal-extensions~=0.2.2->azure-identity<2.0.0,>=1.2.0->azureml-dataprep<2.5.0a,>=2.4.0a->azureml-dataset-runtime~=1.17.0->azureml-train-automl-client) (1.7.1)\n",
            "\u001b[31mERROR: azureml-widgets 1.15.0 has requirement azureml-core~=1.15.0, but you'll have azureml-core 1.17.0 which is incompatible.\u001b[0m\n",
            "\u001b[31mERROR: azureml-widgets 1.15.0 has requirement azureml-telemetry~=1.15.0, but you'll have azureml-telemetry 1.17.0 which is incompatible.\u001b[0m\n",
            "\u001b[31mERROR: azureml-train-core 1.15.0 has requirement azureml-core~=1.15.0, but you'll have azureml-core 1.17.0 which is incompatible.\u001b[0m\n",
            "\u001b[31mERROR: azureml-train-core 1.15.0 has requirement azureml-telemetry~=1.15.0, but you'll have azureml-telemetry 1.17.0 which is incompatible.\u001b[0m\n",
            "\u001b[31mERROR: azureml-train-automl 1.15.0 has requirement azureml-automl-core~=1.15.0, but you'll have azureml-automl-core 1.17.0 which is incompatible.\u001b[0m\n",
            "\u001b[31mERROR: azureml-train-automl 1.15.0 has requirement azureml-dataset-runtime[fuse,pandas]~=1.15.0, but you'll have azureml-dataset-runtime 1.17.0 which is incompatible.\u001b[0m\n",
            "\u001b[31mERROR: azureml-train-automl 1.15.0 has requirement azureml-train-automl-client~=1.15.0, but you'll have azureml-train-automl-client 1.17.0 which is incompatible.\u001b[0m\n",
            "\u001b[31mERROR: azureml-train-automl-runtime 1.15.0 has requirement azureml-automl-core~=1.15.0, but you'll have azureml-automl-core 1.17.0 which is incompatible.\u001b[0m\n",
            "\u001b[31mERROR: azureml-train-automl-runtime 1.15.0 has requirement azureml-core~=1.15.0, but you'll have azureml-core 1.17.0 which is incompatible.\u001b[0m\n",
            "\u001b[31mERROR: azureml-train-automl-runtime 1.15.0 has requirement azureml-dataset-runtime[fuse,pandas]~=1.15.0, but you'll have azureml-dataset-runtime 1.17.0 which is incompatible.\u001b[0m\n",
            "\u001b[31mERROR: azureml-train-automl-runtime 1.15.0 has requirement azureml-telemetry~=1.15.0, but you'll have azureml-telemetry 1.17.0 which is incompatible.\u001b[0m\n",
            "\u001b[31mERROR: azureml-train-automl-runtime 1.15.0 has requirement azureml-train-automl-client~=1.15.0, but you'll have azureml-train-automl-client 1.17.0 which is incompatible.\u001b[0m\n",
            "\u001b[31mERROR: azureml-tensorboard 1.15.0 has requirement azureml-core~=1.15.0, but you'll have azureml-core 1.17.0 which is incompatible.\u001b[0m\n",
            "\u001b[31mERROR: azureml-sdk 1.15.0 has requirement azureml-core~=1.15.0, but you'll have azureml-core 1.17.0 which is incompatible.\u001b[0m\n",
            "\u001b[31mERROR: azureml-sdk 1.15.0 has requirement azureml-dataset-runtime[fuse]~=1.15.0, but you'll have azureml-dataset-runtime 1.17.0 which is incompatible.\u001b[0m\n",
            "\u001b[31mERROR: azureml-sdk 1.15.0 has requirement azureml-train-automl-client~=1.15.0, but you'll have azureml-train-automl-client 1.17.0 which is incompatible.\u001b[0m\n",
            "\u001b[31mERROR: azureml-pipeline-steps 1.15.0 has requirement azureml-train-automl-client~=1.15.0, but you'll have azureml-train-automl-client 1.17.0 which is incompatible.\u001b[0m\n",
            "\u001b[31mERROR: azureml-pipeline-core 1.15.0 has requirement azureml-core~=1.15.0, but you'll have azureml-core 1.17.0 which is incompatible.\u001b[0m\n",
            "\u001b[31mERROR: azureml-opendatasets 1.15.0 has requirement azureml-core~=1.15.0, but you'll have azureml-core 1.17.0 which is incompatible.\u001b[0m\n",
            "\u001b[31mERROR: azureml-opendatasets 1.15.0 has requirement azureml-dataset-runtime[fuse,pandas]~=1.15.0, but you'll have azureml-dataset-runtime 1.17.0 which is incompatible.\u001b[0m\n",
            "\u001b[31mERROR: azureml-opendatasets 1.15.0 has requirement azureml-telemetry~=1.15.0, but you'll have azureml-telemetry 1.17.0 which is incompatible.\u001b[0m\n",
            "\u001b[31mERROR: azureml-mlflow 1.15.0 has requirement azureml-core~=1.15.0, but you'll have azureml-core 1.17.0 which is incompatible.\u001b[0m\n",
            "\u001b[31mERROR: azureml-defaults 1.15.0 has requirement azureml-core~=1.15.0, but you'll have azureml-core 1.17.0 which is incompatible.\u001b[0m\n",
            "\u001b[31mERROR: azureml-defaults 1.15.0 has requirement azureml-dataset-runtime[fuse]~=1.15.0, but you'll have azureml-dataset-runtime 1.17.0 which is incompatible.\u001b[0m\n",
            "\u001b[31mERROR: azureml-datadrift 1.15.0 has requirement azureml-core~=1.15.0, but you'll have azureml-core 1.17.0 which is incompatible.\u001b[0m\n",
            "\u001b[31mERROR: azureml-datadrift 1.15.0 has requirement azureml-dataset-runtime[fuse,pandas]~=1.15.0, but you'll have azureml-dataset-runtime 1.17.0 which is incompatible.\u001b[0m\n",
            "\u001b[31mERROR: azureml-datadrift 1.15.0 has requirement azureml-telemetry~=1.15.0, but you'll have azureml-telemetry 1.17.0 which is incompatible.\u001b[0m\n",
            "\u001b[31mERROR: azureml-contrib-services 1.15.0 has requirement azureml-core~=1.15.0, but you'll have azureml-core 1.17.0 which is incompatible.\u001b[0m\n",
            "\u001b[31mERROR: azureml-contrib-server 1.15.0 has requirement azureml-core~=1.15.0, but you'll have azureml-core 1.17.0 which is incompatible.\u001b[0m\n",
            "\u001b[31mERROR: azureml-contrib-reinforcementlearning 1.15.0 has requirement azureml-core~=1.15.0, but you'll have azureml-core 1.17.0 which is incompatible.\u001b[0m\n",
            "\u001b[31mERROR: azureml-contrib-pipeline-steps 1.15.0 has requirement azureml-core~=1.15.0, but you'll have azureml-core 1.17.0 which is incompatible.\u001b[0m\n",
            "\u001b[31mERROR: azureml-contrib-pipeline-steps 1.15.0 has requirement azureml-dataset-runtime~=1.15.0, but you'll have azureml-dataset-runtime 1.17.0 which is incompatible.\u001b[0m\n",
            "\u001b[31mERROR: azureml-contrib-notebook 1.15.0 has requirement azureml-core~=1.15.0, but you'll have azureml-core 1.17.0 which is incompatible.\u001b[0m\n",
            "\u001b[31mERROR: azureml-contrib-notebook 1.15.0 has requirement nbconvert<6, but you'll have nbconvert 6.0.6 which is incompatible.\u001b[0m\n",
            "\u001b[31mERROR: azureml-contrib-gbdt 1.15.0 has requirement azureml-core~=1.15.0, but you'll have azureml-core 1.17.0 which is incompatible.\u001b[0m\n",
            "\u001b[31mERROR: azureml-contrib-fairness 1.15.0 has requirement azureml-core~=1.15.0, but you'll have azureml-core 1.17.0 which is incompatible.\u001b[0m\n",
            "\u001b[31mERROR: azureml-contrib-dataset 1.15.0 has requirement azureml-core~=1.15.0, but you'll have azureml-core 1.17.0 which is incompatible.\u001b[0m\n",
            "\u001b[31mERROR: azureml-contrib-dataset 1.15.0 has requirement azureml-dataset-runtime[fuse,pandas]~=1.15.0, but you'll have azureml-dataset-runtime 1.17.0 which is incompatible.\u001b[0m\n",
            "\u001b[31mERROR: azureml-cli-common 1.15.0 has requirement azureml-core~=1.15.0, but you'll have azureml-core 1.17.0 which is incompatible.\u001b[0m\n",
            "\u001b[31mERROR: azureml-automl-runtime 1.15.0 has requirement azureml-automl-core~=1.15.0, but you'll have azureml-automl-core 1.17.0 which is incompatible.\u001b[0m\n",
            "\u001b[31mERROR: azureml-automl-runtime 1.15.0 has requirement azureml-dataset-runtime[fuse,pandas]~=1.15.0, but you'll have azureml-dataset-runtime 1.17.0 which is incompatible.\u001b[0m\n",
            "\u001b[31mERROR: azureml-accel-models 1.15.0 has requirement azureml-core~=1.15.0, but you'll have azureml-core 1.17.0 which is incompatible.\u001b[0m\n",
            "Installing collected packages: azureml-dataprep-rslex, azureml-dataprep-native, azureml-dataprep, azureml-dataset-runtime, azureml-core, azureml-telemetry, azureml-automl-core, azureml-train-automl-client\n",
            "  Attempting uninstall: azureml-dataprep-rslex\n",
            "    Found existing installation: azureml-dataprep-rslex 1.1.3\n",
            "    Uninstalling azureml-dataprep-rslex-1.1.3:\n",
            "      Successfully uninstalled azureml-dataprep-rslex-1.1.3\n",
            "  Attempting uninstall: azureml-dataprep-native\n",
            "    Found existing installation: azureml-dataprep-native 23.0.0\n",
            "    Uninstalling azureml-dataprep-native-23.0.0:\n",
            "      Successfully uninstalled azureml-dataprep-native-23.0.0\n",
            "  Attempting uninstall: azureml-dataprep\n",
            "    Found existing installation: azureml-dataprep 2.3.4\n",
            "    Uninstalling azureml-dataprep-2.3.4:\n",
            "      Successfully uninstalled azureml-dataprep-2.3.4\n",
            "  Attempting uninstall: azureml-dataset-runtime\n",
            "    Found existing installation: azureml-dataset-runtime 1.16.0\n",
            "    Uninstalling azureml-dataset-runtime-1.16.0:\n",
            "      Successfully uninstalled azureml-dataset-runtime-1.16.0\n",
            "  Attempting uninstall: azureml-core\n",
            "    Found existing installation: azureml-core 1.16.0.post1\n",
            "    Uninstalling azureml-core-1.16.0.post1:\n",
            "      Successfully uninstalled azureml-core-1.16.0.post1\n",
            "  Attempting uninstall: azureml-telemetry\n",
            "    Found existing installation: azureml-telemetry 1.16.0\n",
            "    Uninstalling azureml-telemetry-1.16.0:\n",
            "      Successfully uninstalled azureml-telemetry-1.16.0\n",
            "  Attempting uninstall: azureml-automl-core\n",
            "    Found existing installation: azureml-automl-core 1.16.0\n",
            "    Uninstalling azureml-automl-core-1.16.0:\n",
            "      Successfully uninstalled azureml-automl-core-1.16.0\n",
            "  Attempting uninstall: azureml-train-automl-client\n",
            "    Found existing installation: azureml-train-automl-client 1.16.0\n",
            "    Uninstalling azureml-train-automl-client-1.16.0:\n",
            "      Successfully uninstalled azureml-train-automl-client-1.16.0\n",
            "Successfully installed azureml-automl-core-1.17.0 azureml-core-1.17.0 azureml-dataprep-2.4.0 azureml-dataprep-native-24.0.0 azureml-dataprep-rslex-1.2.0 azureml-dataset-runtime-1.17.0 azureml-telemetry-1.17.0 azureml-train-automl-client-1.17.0\n"
          ]
        }
      ],
      "execution_count": 97,
      "metadata": {
        "jupyter": {
          "outputs_hidden": false,
          "source_hidden": false
        },
        "nteract": {
          "transient": {
            "deleting": false
          }
        }
      }
    },
    {
      "cell_type": "code",
      "source": [
        "azureml.core.VERSION"
      ],
      "outputs": [
        {
          "output_type": "execute_result",
          "execution_count": 98,
          "data": {
            "text/plain": "'1.15.0'"
          },
          "metadata": {}
        }
      ],
      "execution_count": 98,
      "metadata": {
        "gather": {
          "logged": 1603798138716
        },
        "jupyter": {
          "outputs_hidden": false,
          "source_hidden": false
        },
        "nteract": {
          "transient": {
            "deleting": false
          }
        }
      }
    },
    {
      "cell_type": "code",
      "source": [
        "ws=Workspace.from_config()\n",
        "experiment_name = \"automl-ogforecasting\"\n",
        "experiment = Experiment(ws,experiment_name)\n",
        "\n",
        "output={}\n",
        "output[\"subscription ID\"]=ws.subscription_id\n",
        "output[\"Workspace\"]=ws.name\n",
        "output[\"SKU\"]=ws.sku\n",
        "output[\"Resource Group\"]=ws.resource_group\n",
        "output[\"Location\"]=ws.location\n",
        "output[\"Run History Name\"]=experiment_name\n",
        "pd.set_option('display.max_colwidth',-1)\n",
        "outputDf=pd.DataFrame(data=output, index=[''])\n",
        "outputDf.T"
      ],
      "outputs": [
        {
          "output_type": "execute_result",
          "execution_count": 99,
          "data": {
            "text/plain": "                                                      \nsubscription ID   564cf816-26c7-4ae0-80d2-61523bedd56e\nWorkspace         Economics                           \nSKU               Basic                               \nResource Group    MMF1922                             \nLocation          eastus                              \nRun History Name  automl-ogforecasting                ",
            "text/html": "<div>\n<style scoped>\n    .dataframe tbody tr th:only-of-type {\n        vertical-align: middle;\n    }\n\n    .dataframe tbody tr th {\n        vertical-align: top;\n    }\n\n    .dataframe thead th {\n        text-align: right;\n    }\n</style>\n<table border=\"1\" class=\"dataframe\">\n  <thead>\n    <tr style=\"text-align: right;\">\n      <th></th>\n      <th></th>\n    </tr>\n  </thead>\n  <tbody>\n    <tr>\n      <th>subscription ID</th>\n      <td>564cf816-26c7-4ae0-80d2-61523bedd56e</td>\n    </tr>\n    <tr>\n      <th>Workspace</th>\n      <td>Economics</td>\n    </tr>\n    <tr>\n      <th>SKU</th>\n      <td>Basic</td>\n    </tr>\n    <tr>\n      <th>Resource Group</th>\n      <td>MMF1922</td>\n    </tr>\n    <tr>\n      <th>Location</th>\n      <td>eastus</td>\n    </tr>\n    <tr>\n      <th>Run History Name</th>\n      <td>automl-ogforecasting</td>\n    </tr>\n  </tbody>\n</table>\n</div>"
          },
          "metadata": {}
        }
      ],
      "execution_count": 99,
      "metadata": {
        "gather": {
          "logged": 1603798142072
        },
        "jupyter": {
          "outputs_hidden": false,
          "source_hidden": false
        },
        "nteract": {
          "transient": {
            "deleting": false
          }
        }
      }
    },
    {
      "cell_type": "code",
      "source": [
        "from azureml.core.compute import ComputeTarget, AmlCompute\n",
        "from azureml.core.compute_target import ComputeTargetException\n",
        "amlcompute_cluster_name=\"og-cluster\"\n",
        "\n",
        "try:\n",
        "    compute_target=ComputeTarget(workspace=ws, name=amlcompute_cluster_name)\n",
        "    print('Found existing cluster, use it.')\n",
        "except ComputeTargetException:\n",
        "    compute_config = AmlCompute.provisioning_configuration(vm_size='STANDARD_D2_V2', max_nodes=6)\n",
        "    compute_target=ComputeTarget.create(ws, amlcompute_cluster_name, compute_config)\n",
        "compute_target.wait_for_completion(show_output=True)"
      ],
      "outputs": [
        {
          "output_type": "stream",
          "name": "stdout",
          "text": [
            "Found existing cluster, use it.\n",
            "Succeeded\n",
            "AmlCompute wait for completion finished\n",
            "\n",
            "Minimum number of nodes requested have been provisioned\n"
          ]
        }
      ],
      "execution_count": 100,
      "metadata": {
        "gather": {
          "logged": 1603798147043
        },
        "jupyter": {
          "outputs_hidden": false,
          "source_hidden": false
        },
        "nteract": {
          "transient": {
            "deleting": false
          }
        }
      }
    },
    {
      "cell_type": "code",
      "source": [
        "time_column_name = 'day_datetime'\n",
        "data=pd.read_csv('rawdata.csv', parse_dates=[time_column_name])\n",
        "data.head()"
      ],
      "outputs": [
        {
          "output_type": "execute_result",
          "execution_count": 101,
          "data": {
            "text/plain": "  day_datetime  USA GDP QOQ  CAN GDP QOQ  USA Fed Funds Q  \\\n0 1961-06-30   7.00         7.66         1.73               \n1 1961-09-30   7.90         12.06        1.88               \n2 1961-12-31   8.10         0.82         2.33               \n3 1962-03-31   7.30         7.89         2.85               \n4 1962-06-30   3.70         3.25         2.68               \n\n   Canada Overnight Rate  USA 3-mo Bond Yield  Canada Output Gap  \\\n0 6.75                   2.27                 3.70                 \n1 6.75                   2.28                 3.70                 \n2 6.75                   2.73                 3.70                 \n3 6.75                   2.74                 3.70                 \n4 6.75                   2.86                 3.70                 \n\n   USA Nominal Output Gap  Canada CPI  USA CPI  Canada Housing Price Index  \\\n0 -2.81                   15.70       15.70    29.84                         \n1 -1.95                   15.70       15.70    29.98                         \n2 -1.02                   15.70       15.70    30.01                         \n3 -0.28                   15.70       15.70    30.17                         \n4 -0.43                   15.90       15.90    30.21                         \n\n   USA Housing Price index  \n0 38.20                     \n1 38.20                     \n2 38.20                     \n3 38.20                     \n4 38.20                     ",
            "text/html": "<div>\n<style scoped>\n    .dataframe tbody tr th:only-of-type {\n        vertical-align: middle;\n    }\n\n    .dataframe tbody tr th {\n        vertical-align: top;\n    }\n\n    .dataframe thead th {\n        text-align: right;\n    }\n</style>\n<table border=\"1\" class=\"dataframe\">\n  <thead>\n    <tr style=\"text-align: right;\">\n      <th></th>\n      <th>day_datetime</th>\n      <th>USA GDP QOQ</th>\n      <th>CAN GDP QOQ</th>\n      <th>USA Fed Funds Q</th>\n      <th>Canada Overnight Rate</th>\n      <th>USA 3-mo Bond Yield</th>\n      <th>Canada Output Gap</th>\n      <th>USA Nominal Output Gap</th>\n      <th>Canada CPI</th>\n      <th>USA CPI</th>\n      <th>Canada Housing Price Index</th>\n      <th>USA Housing Price index</th>\n    </tr>\n  </thead>\n  <tbody>\n    <tr>\n      <th>0</th>\n      <td>1961-06-30</td>\n      <td>7.00</td>\n      <td>7.66</td>\n      <td>1.73</td>\n      <td>6.75</td>\n      <td>2.27</td>\n      <td>3.70</td>\n      <td>-2.81</td>\n      <td>15.70</td>\n      <td>15.70</td>\n      <td>29.84</td>\n      <td>38.20</td>\n    </tr>\n    <tr>\n      <th>1</th>\n      <td>1961-09-30</td>\n      <td>7.90</td>\n      <td>12.06</td>\n      <td>1.88</td>\n      <td>6.75</td>\n      <td>2.28</td>\n      <td>3.70</td>\n      <td>-1.95</td>\n      <td>15.70</td>\n      <td>15.70</td>\n      <td>29.98</td>\n      <td>38.20</td>\n    </tr>\n    <tr>\n      <th>2</th>\n      <td>1961-12-31</td>\n      <td>8.10</td>\n      <td>0.82</td>\n      <td>2.33</td>\n      <td>6.75</td>\n      <td>2.73</td>\n      <td>3.70</td>\n      <td>-1.02</td>\n      <td>15.70</td>\n      <td>15.70</td>\n      <td>30.01</td>\n      <td>38.20</td>\n    </tr>\n    <tr>\n      <th>3</th>\n      <td>1962-03-31</td>\n      <td>7.30</td>\n      <td>7.89</td>\n      <td>2.85</td>\n      <td>6.75</td>\n      <td>2.74</td>\n      <td>3.70</td>\n      <td>-0.28</td>\n      <td>15.70</td>\n      <td>15.70</td>\n      <td>30.17</td>\n      <td>38.20</td>\n    </tr>\n    <tr>\n      <th>4</th>\n      <td>1962-06-30</td>\n      <td>3.70</td>\n      <td>3.25</td>\n      <td>2.68</td>\n      <td>6.75</td>\n      <td>2.86</td>\n      <td>3.70</td>\n      <td>-0.43</td>\n      <td>15.90</td>\n      <td>15.90</td>\n      <td>30.21</td>\n      <td>38.20</td>\n    </tr>\n  </tbody>\n</table>\n</div>"
          },
          "metadata": {}
        }
      ],
      "execution_count": 101,
      "metadata": {
        "gather": {
          "logged": 1603798180898
        },
        "jupyter": {
          "outputs_hidden": false,
          "source_hidden": false
        },
        "nteract": {
          "transient": {
            "deleting": false
          }
        }
      }
    },
    {
      "cell_type": "code",
      "source": [
        "data[\"day_datetime\"] = pd.to_datetime(data[\"day_datetime\"])"
      ],
      "outputs": [],
      "execution_count": 102,
      "metadata": {
        "gather": {
          "logged": 1603798185167
        },
        "jupyter": {
          "outputs_hidden": false,
          "source_hidden": false
        },
        "nteract": {
          "transient": {
            "deleting": false
          }
        }
      }
    },
    {
      "cell_type": "code",
      "source": [
        "n_test_periods=14\n",
        "\n",
        "def split_last_n(df,n):\n",
        "    df_head=df.apply(lambda dfg: dfg.iloc[:-n])\n",
        "    df_tail=df.apply(lambda dfg: dfg.iloc[-n:])\n",
        "    return df_head, df_tail\n",
        "    \n",
        "train, test=split_last_n(data, n_test_periods)"
      ],
      "outputs": [],
      "execution_count": 103,
      "metadata": {
        "gather": {
          "logged": 1603798187878
        },
        "jupyter": {
          "outputs_hidden": false,
          "source_hidden": false
        },
        "nteract": {
          "transient": {
            "deleting": false
          }
        }
      }
    },
    {
      "cell_type": "code",
      "source": [
        "test.head()"
      ],
      "outputs": [
        {
          "output_type": "execute_result",
          "execution_count": 104,
          "data": {
            "text/plain": "    day_datetime  USA GDP QOQ  CAN GDP QOQ  USA Fed Funds Q  \\\n222 2016-12-31   2.50         2.27         0.54               \n223 2017-03-31   2.30         4.68         0.79               \n224 2017-06-30   1.70         4.80         1.04               \n225 2017-09-30   2.90         1.44         1.15               \n226 2017-12-31   3.90         1.74         1.30               \n\n     Canada Overnight Rate  USA 3-mo Bond Yield  Canada Output Gap  \\\n222 0.50                   0.51                 -2.10                \n223 0.50                   0.75                 -1.30                \n224 0.50                   1.01                 -0.50                \n225 1.00                   1.13                 -0.50                \n226 1.25                   1.46                 -0.50                \n\n     USA Nominal Output Gap  Canada CPI  USA CPI  Canada Housing Price Index  \\\n222 -1.05                   128.40      128.40   242.71                        \n223 -0.85                   129.90      129.90   243.72                        \n224 -0.85                   130.40      130.40   244.18                        \n225 -0.57                   130.80      130.80   246.44                        \n226 -0.06                   130.80      130.80   247.85                        \n\n     USA Housing Price index  \n222 100.00                    \n223 100.70                    \n224 102.40                    \n225 103.10                    \n226 103.30                    ",
            "text/html": "<div>\n<style scoped>\n    .dataframe tbody tr th:only-of-type {\n        vertical-align: middle;\n    }\n\n    .dataframe tbody tr th {\n        vertical-align: top;\n    }\n\n    .dataframe thead th {\n        text-align: right;\n    }\n</style>\n<table border=\"1\" class=\"dataframe\">\n  <thead>\n    <tr style=\"text-align: right;\">\n      <th></th>\n      <th>day_datetime</th>\n      <th>USA GDP QOQ</th>\n      <th>CAN GDP QOQ</th>\n      <th>USA Fed Funds Q</th>\n      <th>Canada Overnight Rate</th>\n      <th>USA 3-mo Bond Yield</th>\n      <th>Canada Output Gap</th>\n      <th>USA Nominal Output Gap</th>\n      <th>Canada CPI</th>\n      <th>USA CPI</th>\n      <th>Canada Housing Price Index</th>\n      <th>USA Housing Price index</th>\n    </tr>\n  </thead>\n  <tbody>\n    <tr>\n      <th>222</th>\n      <td>2016-12-31</td>\n      <td>2.50</td>\n      <td>2.27</td>\n      <td>0.54</td>\n      <td>0.50</td>\n      <td>0.51</td>\n      <td>-2.10</td>\n      <td>-1.05</td>\n      <td>128.40</td>\n      <td>128.40</td>\n      <td>242.71</td>\n      <td>100.00</td>\n    </tr>\n    <tr>\n      <th>223</th>\n      <td>2017-03-31</td>\n      <td>2.30</td>\n      <td>4.68</td>\n      <td>0.79</td>\n      <td>0.50</td>\n      <td>0.75</td>\n      <td>-1.30</td>\n      <td>-0.85</td>\n      <td>129.90</td>\n      <td>129.90</td>\n      <td>243.72</td>\n      <td>100.70</td>\n    </tr>\n    <tr>\n      <th>224</th>\n      <td>2017-06-30</td>\n      <td>1.70</td>\n      <td>4.80</td>\n      <td>1.04</td>\n      <td>0.50</td>\n      <td>1.01</td>\n      <td>-0.50</td>\n      <td>-0.85</td>\n      <td>130.40</td>\n      <td>130.40</td>\n      <td>244.18</td>\n      <td>102.40</td>\n    </tr>\n    <tr>\n      <th>225</th>\n      <td>2017-09-30</td>\n      <td>2.90</td>\n      <td>1.44</td>\n      <td>1.15</td>\n      <td>1.00</td>\n      <td>1.13</td>\n      <td>-0.50</td>\n      <td>-0.57</td>\n      <td>130.80</td>\n      <td>130.80</td>\n      <td>246.44</td>\n      <td>103.10</td>\n    </tr>\n    <tr>\n      <th>226</th>\n      <td>2017-12-31</td>\n      <td>3.90</td>\n      <td>1.74</td>\n      <td>1.30</td>\n      <td>1.25</td>\n      <td>1.46</td>\n      <td>-0.50</td>\n      <td>-0.06</td>\n      <td>130.80</td>\n      <td>130.80</td>\n      <td>247.85</td>\n      <td>103.30</td>\n    </tr>\n  </tbody>\n</table>\n</div>"
          },
          "metadata": {}
        }
      ],
      "execution_count": 104,
      "metadata": {
        "gather": {
          "logged": 1603798191229
        },
        "jupyter": {
          "outputs_hidden": false,
          "source_hidden": false
        },
        "nteract": {
          "transient": {
            "deleting": false
          }
        }
      }
    },
    {
      "cell_type": "code",
      "source": [
        "train.to_csv(r'./rawdata_OG_train.csv', index=None)\n",
        "test.to_csv(r'./rawdata_OG_test.csv',index=None)"
      ],
      "outputs": [],
      "execution_count": 105,
      "metadata": {
        "gather": {
          "logged": 1603798195440
        },
        "jupyter": {
          "outputs_hidden": false,
          "source_hidden": false
        },
        "nteract": {
          "transient": {
            "deleting": false
          }
        }
      }
    },
    {
      "cell_type": "code",
      "source": [
        "datastore=ws.get_default_datastore()\n",
        "datastore.upload_files(files=['./rawdata_OG_train.csv', './rawdata_OG_test.csv'], target_path = 'dataset/', overwrite=True)"
      ],
      "outputs": [
        {
          "output_type": "stream",
          "name": "stdout",
          "text": [
            "Uploading an estimated of 2 files\n",
            "Uploading ./rawdata_OG_train.csv\n",
            "Uploaded ./rawdata_OG_train.csv, 1 files out of an estimated total of 2\n",
            "Uploading ./rawdata_OG_test.csv\n",
            "Uploaded ./rawdata_OG_test.csv, 2 files out of an estimated total of 2\n",
            "Uploaded 2 files\n"
          ]
        },
        {
          "output_type": "execute_result",
          "execution_count": 106,
          "data": {
            "text/plain": "$AZUREML_DATAREFERENCE_2c87694981d8463aab2868479ef0be3c"
          },
          "metadata": {}
        }
      ],
      "execution_count": 106,
      "metadata": {
        "gather": {
          "logged": 1603798201621
        },
        "jupyter": {
          "outputs_hidden": false,
          "source_hidden": false
        },
        "nteract": {
          "transient": {
            "deleting": false
          }
        }
      }
    },
    {
      "cell_type": "code",
      "source": [
        "from azureml.core.dataset import Dataset\n",
        "train_dataset = Dataset.Tabular.from_delimited_files(path=datastore.path('dataset/rawdata_OG_train.csv'))\n"
      ],
      "outputs": [],
      "execution_count": 107,
      "metadata": {
        "gather": {
          "logged": 1603798207304
        },
        "jupyter": {
          "outputs_hidden": false,
          "source_hidden": false
        },
        "nteract": {
          "transient": {
            "deleting": false
          }
        }
      }
    },
    {
      "cell_type": "code",
      "source": [
        "train_dataset.to_pandas_dataframe().tail()"
      ],
      "outputs": [
        {
          "output_type": "execute_result",
          "execution_count": 108,
          "data": {
            "text/plain": "    day_datetime  USA GDP QOQ  CAN GDP QOQ  USA Fed Funds Q  \\\n217 2015-09-30   1.50         1.42         0.14               \n218 2015-12-31   0.60         0.30         0.24               \n219 2016-03-31   2.30         2.21         0.36               \n220 2016-06-30   1.30         -1.95        0.38               \n221 2016-09-30   2.20         4.20         0.40               \n\n     Canada Overnight Rate  USA 3-mo Bond Yield  Canada Output Gap  \\\n217 0.50                   -0.02                -2.00                \n218 0.50                   0.16                 -2.30                \n219 0.50                   0.20                 -2.20                \n220 0.50                   0.26                 -3.00                \n221 0.50                   0.27                 -2.40                \n\n     USA Nominal Output Gap  Canada CPI  USA CPI  Canada Housing Price Index  \\\n217 -1.25                   127.10      127.10   237.50                        \n218 -1.50                   126.50      126.50   237.76                        \n219 -1.32                   127.90      127.90   237.99                        \n220 -1.40                   129.10      129.10   240.14                        \n221 -1.29                   128.80      128.80   241.07                        \n\n     USA Housing Price index  \n217 96.60                     \n218 97.00                     \n219 97.50                     \n220 98.60                     \n221 99.30                     ",
            "text/html": "<div>\n<style scoped>\n    .dataframe tbody tr th:only-of-type {\n        vertical-align: middle;\n    }\n\n    .dataframe tbody tr th {\n        vertical-align: top;\n    }\n\n    .dataframe thead th {\n        text-align: right;\n    }\n</style>\n<table border=\"1\" class=\"dataframe\">\n  <thead>\n    <tr style=\"text-align: right;\">\n      <th></th>\n      <th>day_datetime</th>\n      <th>USA GDP QOQ</th>\n      <th>CAN GDP QOQ</th>\n      <th>USA Fed Funds Q</th>\n      <th>Canada Overnight Rate</th>\n      <th>USA 3-mo Bond Yield</th>\n      <th>Canada Output Gap</th>\n      <th>USA Nominal Output Gap</th>\n      <th>Canada CPI</th>\n      <th>USA CPI</th>\n      <th>Canada Housing Price Index</th>\n      <th>USA Housing Price index</th>\n    </tr>\n  </thead>\n  <tbody>\n    <tr>\n      <th>217</th>\n      <td>2015-09-30</td>\n      <td>1.50</td>\n      <td>1.42</td>\n      <td>0.14</td>\n      <td>0.50</td>\n      <td>-0.02</td>\n      <td>-2.00</td>\n      <td>-1.25</td>\n      <td>127.10</td>\n      <td>127.10</td>\n      <td>237.50</td>\n      <td>96.60</td>\n    </tr>\n    <tr>\n      <th>218</th>\n      <td>2015-12-31</td>\n      <td>0.60</td>\n      <td>0.30</td>\n      <td>0.24</td>\n      <td>0.50</td>\n      <td>0.16</td>\n      <td>-2.30</td>\n      <td>-1.50</td>\n      <td>126.50</td>\n      <td>126.50</td>\n      <td>237.76</td>\n      <td>97.00</td>\n    </tr>\n    <tr>\n      <th>219</th>\n      <td>2016-03-31</td>\n      <td>2.30</td>\n      <td>2.21</td>\n      <td>0.36</td>\n      <td>0.50</td>\n      <td>0.20</td>\n      <td>-2.20</td>\n      <td>-1.32</td>\n      <td>127.90</td>\n      <td>127.90</td>\n      <td>237.99</td>\n      <td>97.50</td>\n    </tr>\n    <tr>\n      <th>220</th>\n      <td>2016-06-30</td>\n      <td>1.30</td>\n      <td>-1.95</td>\n      <td>0.38</td>\n      <td>0.50</td>\n      <td>0.26</td>\n      <td>-3.00</td>\n      <td>-1.40</td>\n      <td>129.10</td>\n      <td>129.10</td>\n      <td>240.14</td>\n      <td>98.60</td>\n    </tr>\n    <tr>\n      <th>221</th>\n      <td>2016-09-30</td>\n      <td>2.20</td>\n      <td>4.20</td>\n      <td>0.40</td>\n      <td>0.50</td>\n      <td>0.27</td>\n      <td>-2.40</td>\n      <td>-1.29</td>\n      <td>128.80</td>\n      <td>128.80</td>\n      <td>241.07</td>\n      <td>99.30</td>\n    </tr>\n  </tbody>\n</table>\n</div>"
          },
          "metadata": {}
        }
      ],
      "execution_count": 108,
      "metadata": {
        "gather": {
          "logged": 1603798208579
        },
        "jupyter": {
          "outputs_hidden": false,
          "source_hidden": false
        },
        "nteract": {
          "transient": {
            "deleting": false
          }
        }
      }
    },
    {
      "cell_type": "code",
      "source": [
        "target_column_name = \"CAN GDP QOQ\""
      ],
      "outputs": [],
      "execution_count": 109,
      "metadata": {
        "gather": {
          "logged": 1603798212122
        },
        "jupyter": {
          "outputs_hidden": false,
          "source_hidden": false
        },
        "nteract": {
          "transient": {
            "deleting": false
          }
        }
      }
    },
    {
      "cell_type": "code",
      "source": [
        "time_series_settings={\n",
        "    'time_column_name':time_column_name,\n",
        "    'max_horizon':n_test_periods\n",
        "}\n",
        "\n",
        "automl_config=AutoMLConfig(task=\"forecasting\",debug_log=\"automl_og_errors.log\",primary_metric='normalized_mean_absolute_error', experiment_timeout_hours=0.5, training_data=train_dataset, label_column_name=target_column_name, compute_target=compute_target, enable_early_stopping=True, n_cross_validations=3, verbosity=logging.INFO, **time_series_settings)\n"
      ],
      "outputs": [],
      "execution_count": 110,
      "metadata": {
        "gather": {
          "logged": 1603798214030
        },
        "jupyter": {
          "outputs_hidden": false,
          "source_hidden": false
        },
        "nteract": {
          "transient": {
            "deleting": false
          }
        }
      }
    },
    {
      "cell_type": "code",
      "source": [
        "remote_run=experiment.submit(automl_config, show_output=False)\n",
        "remote_run"
      ],
      "outputs": [
        {
          "output_type": "stream",
          "name": "stdout",
          "text": [
            "Running on remote.\n"
          ]
        },
        {
          "output_type": "execute_result",
          "execution_count": 111,
          "data": {
            "text/plain": "Run(Experiment: automl-ogforecasting,\nId: AutoML_2798d388-99ab-4a51-be99-c99bac18fbb5,\nType: automl,\nStatus: NotStarted)",
            "text/html": "<table style=\"width:100%\"><tr><th>Experiment</th><th>Id</th><th>Type</th><th>Status</th><th>Details Page</th><th>Docs Page</th></tr><tr><td>automl-ogforecasting</td><td>AutoML_2798d388-99ab-4a51-be99-c99bac18fbb5</td><td>automl</td><td>NotStarted</td><td><a href=\"https://ml.azure.com/experiments/automl-ogforecasting/runs/AutoML_2798d388-99ab-4a51-be99-c99bac18fbb5?wsid=/subscriptions/564cf816-26c7-4ae0-80d2-61523bedd56e/resourcegroups/MMF1922/workspaces/Economics\" target=\"_blank\" rel=\"noopener\">Link to Azure Machine Learning studio</a></td><td><a href=\"https://docs.microsoft.com/en-us/python/api/overview/azure/ml/intro?view=azure-ml-py\" target=\"_blank\" rel=\"noopener\">Link to Documentation</a></td></tr></table>"
          },
          "metadata": {}
        }
      ],
      "execution_count": 111,
      "metadata": {
        "gather": {
          "logged": 1603798222402
        },
        "jupyter": {
          "outputs_hidden": false,
          "source_hidden": false
        },
        "nteract": {
          "transient": {
            "deleting": false
          }
        }
      }
    },
    {
      "cell_type": "code",
      "source": [
        "best_run, fitted_model = remote_run.get_output()\n",
        "print(fitted_model.steps)\n",
        "model_name=best_run.properties['model_name']"
      ],
      "outputs": [
        {
          "output_type": "stream",
          "name": "stderr",
          "text": [
            "WARNING - The version of the SDK does not match the version the model was trained on.\n",
            "WARNING - The consistency in the result may not be guaranteed.\n",
            "WARNING - Package:azureml-automl-core, training version:1.16.0, current version:1.15.0\n",
            "Package:azureml-automl-runtime, training version:1.16.0, current version:1.15.0\n",
            "Package:azureml-core, training version:1.16.0, current version:1.15.0\n",
            "Package:azureml-dataprep, training version:2.3.2, current version:2.2.3\n",
            "Package:azureml-dataprep-native, training version:23.0.0, current version:22.0.0\n",
            "Package:azureml-dataprep-rslex, training version:1.1.1, current version:1.0.1\n",
            "Package:azureml-dataset-runtime, training version:1.16.0, current version:1.15.0\n",
            "Package:azureml-defaults, training version:1.16.0, current version:1.15.0\n",
            "Package:azureml-interpret, training version:1.16.0, current version:1.15.0\n",
            "Package:azureml-pipeline-core, training version:1.16.0, current version:1.15.0\n",
            "Package:azureml-telemetry, training version:1.16.0, current version:1.15.0\n",
            "Package:azureml-train-automl-client, training version:1.16.0, current version:1.15.0.post1\n",
            "Package:azureml-train-automl-runtime, training version:1.16.0, current version:1.15.0\n",
            "WARNING - Please ensure the version of your local conda dependencies match the version on which your model was trained in order to properly retrieve your model.\n"
          ]
        },
        {
          "output_type": "stream",
          "name": "stdout",
          "text": [
            "[('timeseriestransformer', TimeSeriesTransformer(featurization_config=None,\n",
            "                      pipeline_type=<TimeSeriesPipelineType.FULL: 1>)), ('prefittedsoftvotingregressor', PreFittedSoftVotingRegressor(estimators=[('7',\n",
            "                                          Pipeline(memory=None,\n",
            "                                                   steps=[('standardscalerwrapper',\n",
            "                                                           <azureml.automl.runtime.shared.model_wrappers.StandardScalerWrapper object at 0x7f1f7628fb38>),\n",
            "                                                          ('elasticnet',\n",
            "                                                           ElasticNet(alpha=0.9474210526315789,\n",
            "                                                                      copy_X=True,\n",
            "                                                                      fit_intercept=True,\n",
            "                                                                      l1_ratio=0.01,\n",
            "                                                                      max_iter=1000,\n",
            "                                                                      normalize=False,\n",
            "                                                                      positive=False,\n",
            "                                                                      precompute=False,\n",
            "                                                                      ra...\n",
            "                                                                                 min_impurity_split=None,\n",
            "                                                                                 min_samples_leaf=0.0030712916328495916,\n",
            "                                                                                 min_samples_split=0.018261584682702607,\n",
            "                                                                                 min_weight_fraction_leaf=0.0,\n",
            "                                                                                 presort='deprecated',\n",
            "                                                                                 random_state=None,\n",
            "                                                                                 splitter='random'))],\n",
            "                                                   verbose=False))],\n",
            "                             weights=[0.3333333333333333, 0.06666666666666667,\n",
            "                                      0.06666666666666667, 0.06666666666666667,\n",
            "                                      0.06666666666666667, 0.26666666666666666,\n",
            "                                      0.13333333333333333]))]\n"
          ]
        }
      ],
      "execution_count": 112,
      "metadata": {
        "gather": {
          "logged": 1603817993876
        },
        "jupyter": {
          "outputs_hidden": false,
          "source_hidden": false
        },
        "nteract": {
          "transient": {
            "deleting": false
          }
        }
      }
    },
    {
      "cell_type": "code",
      "source": [
        "custom_featurizer=fitted_model.named_steps['timeseriestransformer']"
      ],
      "outputs": [],
      "execution_count": 113,
      "metadata": {
        "gather": {
          "logged": 1603818014925
        },
        "jupyter": {
          "outputs_hidden": false,
          "source_hidden": false
        },
        "nteract": {
          "transient": {
            "deleting": false
          }
        }
      }
    },
    {
      "cell_type": "code",
      "source": [
        "custom_featurizer.get_featurization_summary()"
      ],
      "outputs": [
        {
          "output_type": "execute_result",
          "execution_count": 114,
          "data": {
            "text/plain": "[{'RawFeatureName': 'USA GDP QOQ',\n  'TypeDetected': 'Numeric',\n  'Dropped': 'No',\n  'EngineeredFeatureCount': 2,\n  'Transformations': ['MedianImputer', 'ImputationMarker']},\n {'RawFeatureName': 'USA Fed Funds Q',\n  'TypeDetected': 'Numeric',\n  'Dropped': 'No',\n  'EngineeredFeatureCount': 2,\n  'Transformations': ['MedianImputer', 'ImputationMarker']},\n {'RawFeatureName': 'Canada Overnight Rate',\n  'TypeDetected': 'Numeric',\n  'Dropped': 'No',\n  'EngineeredFeatureCount': 2,\n  'Transformations': ['MedianImputer', 'ImputationMarker']},\n {'RawFeatureName': 'USA 3-mo Bond Yield',\n  'TypeDetected': 'Numeric',\n  'Dropped': 'No',\n  'EngineeredFeatureCount': 2,\n  'Transformations': ['MedianImputer', 'ImputationMarker']},\n {'RawFeatureName': 'Canada Output Gap',\n  'TypeDetected': 'Numeric',\n  'Dropped': 'No',\n  'EngineeredFeatureCount': 2,\n  'Transformations': ['MedianImputer', 'ImputationMarker']},\n {'RawFeatureName': 'USA Nominal Output Gap',\n  'TypeDetected': 'Numeric',\n  'Dropped': 'No',\n  'EngineeredFeatureCount': 2,\n  'Transformations': ['MedianImputer', 'ImputationMarker']},\n {'RawFeatureName': 'Canada CPI',\n  'TypeDetected': 'Numeric',\n  'Dropped': 'No',\n  'EngineeredFeatureCount': 2,\n  'Transformations': ['MedianImputer', 'ImputationMarker']},\n {'RawFeatureName': 'USA CPI',\n  'TypeDetected': 'Numeric',\n  'Dropped': 'No',\n  'EngineeredFeatureCount': 2,\n  'Transformations': ['MedianImputer', 'ImputationMarker']},\n {'RawFeatureName': 'Canada Housing Price Index',\n  'TypeDetected': 'Numeric',\n  'Dropped': 'No',\n  'EngineeredFeatureCount': 2,\n  'Transformations': ['MedianImputer', 'ImputationMarker']},\n {'RawFeatureName': 'USA Housing Price index',\n  'TypeDetected': 'Numeric',\n  'Dropped': 'No',\n  'EngineeredFeatureCount': 2,\n  'Transformations': ['MedianImputer', 'ImputationMarker']},\n {'RawFeatureName': 'day_datetime',\n  'TypeDetected': 'DateTime',\n  'Dropped': 'No',\n  'EngineeredFeatureCount': 7,\n  'Transformations': ['DateTimeTransformer',\n   'DateTimeTransformer',\n   'DateTimeTransformer',\n   'DateTimeTransformer',\n   'DateTimeTransformer',\n   'DateTimeTransformer',\n   'DateTimeTransformer']}]"
          },
          "metadata": {}
        }
      ],
      "execution_count": 114,
      "metadata": {
        "gather": {
          "logged": 1603818017346
        },
        "jupyter": {
          "outputs_hidden": false,
          "source_hidden": false
        },
        "nteract": {
          "transient": {
            "deleting": false
          }
        }
      }
    },
    {
      "cell_type": "code",
      "source": [
        "X_test=test\n",
        "y_test=X_test.pop(target_column_name).values\n",
        "X_test.head()"
      ],
      "outputs": [
        {
          "output_type": "execute_result",
          "execution_count": 115,
          "data": {
            "text/plain": "    day_datetime  USA GDP QOQ  USA Fed Funds Q  Canada Overnight Rate  \\\n222 2016-12-31   2.50         0.54             0.50                     \n223 2017-03-31   2.30         0.79             0.50                     \n224 2017-06-30   1.70         1.04             0.50                     \n225 2017-09-30   2.90         1.15             1.00                     \n226 2017-12-31   3.90         1.30             1.25                     \n\n     USA 3-mo Bond Yield  Canada Output Gap  USA Nominal Output Gap  \\\n222 0.51                 -2.10              -1.05                     \n223 0.75                 -1.30              -0.85                     \n224 1.01                 -0.50              -0.85                     \n225 1.13                 -0.50              -0.57                     \n226 1.46                 -0.50              -0.06                     \n\n     Canada CPI  USA CPI  Canada Housing Price Index  USA Housing Price index  \n222 128.40      128.40   242.71                      100.00                    \n223 129.90      129.90   243.72                      100.70                    \n224 130.40      130.40   244.18                      102.40                    \n225 130.80      130.80   246.44                      103.10                    \n226 130.80      130.80   247.85                      103.30                    ",
            "text/html": "<div>\n<style scoped>\n    .dataframe tbody tr th:only-of-type {\n        vertical-align: middle;\n    }\n\n    .dataframe tbody tr th {\n        vertical-align: top;\n    }\n\n    .dataframe thead th {\n        text-align: right;\n    }\n</style>\n<table border=\"1\" class=\"dataframe\">\n  <thead>\n    <tr style=\"text-align: right;\">\n      <th></th>\n      <th>day_datetime</th>\n      <th>USA GDP QOQ</th>\n      <th>USA Fed Funds Q</th>\n      <th>Canada Overnight Rate</th>\n      <th>USA 3-mo Bond Yield</th>\n      <th>Canada Output Gap</th>\n      <th>USA Nominal Output Gap</th>\n      <th>Canada CPI</th>\n      <th>USA CPI</th>\n      <th>Canada Housing Price Index</th>\n      <th>USA Housing Price index</th>\n    </tr>\n  </thead>\n  <tbody>\n    <tr>\n      <th>222</th>\n      <td>2016-12-31</td>\n      <td>2.50</td>\n      <td>0.54</td>\n      <td>0.50</td>\n      <td>0.51</td>\n      <td>-2.10</td>\n      <td>-1.05</td>\n      <td>128.40</td>\n      <td>128.40</td>\n      <td>242.71</td>\n      <td>100.00</td>\n    </tr>\n    <tr>\n      <th>223</th>\n      <td>2017-03-31</td>\n      <td>2.30</td>\n      <td>0.79</td>\n      <td>0.50</td>\n      <td>0.75</td>\n      <td>-1.30</td>\n      <td>-0.85</td>\n      <td>129.90</td>\n      <td>129.90</td>\n      <td>243.72</td>\n      <td>100.70</td>\n    </tr>\n    <tr>\n      <th>224</th>\n      <td>2017-06-30</td>\n      <td>1.70</td>\n      <td>1.04</td>\n      <td>0.50</td>\n      <td>1.01</td>\n      <td>-0.50</td>\n      <td>-0.85</td>\n      <td>130.40</td>\n      <td>130.40</td>\n      <td>244.18</td>\n      <td>102.40</td>\n    </tr>\n    <tr>\n      <th>225</th>\n      <td>2017-09-30</td>\n      <td>2.90</td>\n      <td>1.15</td>\n      <td>1.00</td>\n      <td>1.13</td>\n      <td>-0.50</td>\n      <td>-0.57</td>\n      <td>130.80</td>\n      <td>130.80</td>\n      <td>246.44</td>\n      <td>103.10</td>\n    </tr>\n    <tr>\n      <th>226</th>\n      <td>2017-12-31</td>\n      <td>3.90</td>\n      <td>1.30</td>\n      <td>1.25</td>\n      <td>1.46</td>\n      <td>-0.50</td>\n      <td>-0.06</td>\n      <td>130.80</td>\n      <td>130.80</td>\n      <td>247.85</td>\n      <td>103.30</td>\n    </tr>\n  </tbody>\n</table>\n</div>"
          },
          "metadata": {}
        }
      ],
      "execution_count": 115,
      "metadata": {
        "gather": {
          "logged": 1603818028396
        },
        "jupyter": {
          "outputs_hidden": false,
          "source_hidden": false
        },
        "nteract": {
          "transient": {
            "deleting": false
          }
        }
      }
    },
    {
      "cell_type": "code",
      "source": [
        "y_predictions, X_trans = fitted_model.forecast(X_test)"
      ],
      "outputs": [],
      "execution_count": 116,
      "metadata": {
        "gather": {
          "logged": 1603818034662
        },
        "jupyter": {
          "outputs_hidden": false,
          "source_hidden": false
        },
        "nteract": {
          "transient": {
            "deleting": false
          }
        }
      }
    },
    {
      "cell_type": "code",
      "source": [
        "import pandas as pd\n",
        "import numpy as np\n",
        "from pandas.tseries.frequencies import to_offset\n",
        "\n",
        "\n",
        "def align_outputs(y_predicted, X_trans, X_test, y_test, target_column_name,\n",
        "                  predicted_column_name='predicted',\n",
        "                  horizon_colname='horizon_origin'):\n",
        "    \"\"\"\n",
        "    Demonstrates how to get the output aligned to the inputs\n",
        "    using pandas indexes. Helps understand what happened if\n",
        "    the output's shape differs from the input shape, or if\n",
        "    the data got re-sorted by time and grain during forecasting.\n",
        "    Typical causes of misalignment are:\n",
        "    * we predicted some periods that were missing in actuals -> drop from eval\n",
        "    * model was asked to predict past max_horizon -> increase max horizon\n",
        "    * data at start of X_test was needed for lags -> provide previous periods\n",
        "    \"\"\"\n",
        "\n",
        "    if (horizon_colname in X_trans):\n",
        "        df_fcst = pd.DataFrame({predicted_column_name: y_predicted,\n",
        "                                horizon_colname: X_trans[horizon_colname]})\n",
        "    else:\n",
        "        df_fcst = pd.DataFrame({predicted_column_name: y_predicted})\n",
        "\n",
        "    # y and X outputs are aligned by forecast() function contract\n",
        "    df_fcst.index = X_trans.index\n",
        "\n",
        "    # align original X_test to y_test\n",
        "    X_test_full = X_test.copy()\n",
        "    X_test_full[target_column_name] = y_test\n",
        "\n",
        "    # X_test_full's index does not include origin, so reset for merge\n",
        "    df_fcst.reset_index(inplace=True)\n",
        "    X_test_full = X_test_full.reset_index().drop(columns='index')\n",
        "    together = df_fcst.merge(X_test_full, how='right')\n",
        "\n",
        "    # drop rows where prediction or actuals are nan\n",
        "    # happens because of missing actuals\n",
        "    # or at edges of time due to lags/rolling windows\n",
        "    clean = together[together[[target_column_name,\n",
        "                               predicted_column_name]].notnull().all(axis=1)]\n",
        "    return(clean)"
      ],
      "outputs": [],
      "execution_count": 117,
      "metadata": {
        "gather": {
          "logged": 1603818040228
        },
        "jupyter": {
          "outputs_hidden": false,
          "source_hidden": false
        },
        "nteract": {
          "transient": {
            "deleting": false
          }
        }
      }
    },
    {
      "cell_type": "code",
      "source": [
        "#from forecasting_helper import align_outputs\n",
        "df_all=align_outputs(y_predictions, X_trans, X_test, y_test, target_column_name)"
      ],
      "outputs": [],
      "execution_count": 118,
      "metadata": {
        "gather": {
          "logged": 1603818045177
        },
        "jupyter": {
          "outputs_hidden": false,
          "source_hidden": false
        },
        "nteract": {
          "transient": {
            "deleting": false
          }
        }
      }
    },
    {
      "cell_type": "code",
      "source": [
        "from azureml.automl.core._vendor.automl.client.core.common import metrics\n",
        "from matplotlib import pyplot as plt\n",
        "from automl.client.core.common import constants\n",
        "\n",
        "# use automl metrics module\n",
        "scores = metrics.compute_metrics_regression(\n",
        "    df_all['predicted'],\n",
        "    df_all[target_column_name],\n",
        "    list(constants.Metric.SCALAR_REGRESSION_SET),\n",
        "    None, None, None)\n",
        "\n",
        "print(\"[Test data scores]\\n\")\n",
        "for key, value in scores.items():   \n",
        "    print('{}:   {:.3f}'.format(key, value))\n",
        "\n",
        "# Plot outputs\n",
        "%matplotlib inline\n",
        "test_pred = plt.scatter(df_all[target_column_name], df_all['predicted'], color='b')\n",
        "test_test = plt.scatter(df_all[target_column_name], df_all[target_column_name], color='g')\n",
        "plt.legend((test_pred, test_test), ('prediction', 'truth'), loc='upper left', fontsize=8)\n",
        "plt.show()"
      ],
      "outputs": [
        {
          "output_type": "stream",
          "name": "stderr",
          "text": [
            "WARNING - azureml.automl.runtime.shared.metrics.compute_metrics_regression is deprecated. Please use azureml.automl.runtime.shared.score.scoring.score_regression\n"
          ]
        },
        {
          "output_type": "stream",
          "name": "stdout",
          "text": [
            "[Test data scores]\n",
            "\n",
            "normalized_root_mean_squared_error:   0.186\n",
            "normalized_mean_absolute_error:   0.133\n",
            "r2_score:   0.326\n",
            "normalized_median_absolute_error:   0.077\n",
            "spearman_correlation:   -0.314\n",
            "mean_absolute_percentage_error:   77.706\n",
            "normalized_root_mean_squared_log_error:   nan\n",
            "explained_variance:   0.328\n",
            "mean_absolute_error:   1.722\n",
            "root_mean_squared_log_error:   nan\n",
            "root_mean_squared_error:   2.411\n",
            "median_absolute_error:   1.002\n"
          ]
        },
        {
          "output_type": "display_data",
          "data": {
            "text/plain": "<Figure size 432x288 with 1 Axes>",
            "image/png": "[encoded data removed]"
          },
          "metadata": {
            "needs_background": "light"
          }
        }
      ],
      "execution_count": 119,
      "metadata": {
        "gather": {
          "logged": 1603818053987
        },
        "jupyter": {
          "outputs_hidden": false,
          "source_hidden": false
        },
        "nteract": {
          "transient": {
            "deleting": false
          }
        }
      }
    },
    {
      "cell_type": "code",
      "source": [
        "description='AutoML OG forecaster'\n",
        "tags=None\n",
        "model=remote_run.register_model(model_name=model_name, description=description, tags=tags)\n",
        "print(remote_run.model_id)"
      ],
      "outputs": [
        {
          "output_type": "stream",
          "name": "stdout",
          "text": [
            "AutoML2798d388930\n"
          ]
        }
      ],
      "execution_count": 120,
      "metadata": {
        "gather": {
          "logged": 1603818091074
        },
        "jupyter": {
          "outputs_hidden": false,
          "source_hidden": false
        },
        "nteract": {
          "transient": {
            "deleting": false
          }
        }
      }
    },
    {
      "cell_type": "code",
      "source": [
        "script_file_name='score_fcast.py'\n",
        "best_run.download_file('outputs/scoring_file_v_1_0_0.py',script_file_name)"
      ],
      "outputs": [],
      "execution_count": 121,
      "metadata": {
        "gather": {
          "logged": 1603818095504
        },
        "jupyter": {
          "outputs_hidden": false,
          "source_hidden": false
        },
        "nteract": {
          "transient": {
            "deleting": false
          }
        }
      }
    },
    {
      "cell_type": "code",
      "source": [
        "from azureml.core.model import InferenceConfig\n",
        "from azureml.core.webservice import AciWebservice\n",
        "from azureml.core.webservice import Webservice\n",
        "from azureml.core.model import Model\n",
        "\n",
        "inference_config = InferenceConfig(environment = best_run.get_environment(), entry_script = script_file_name)\n",
        "aciconfig = AciWebservice.deploy_configuration(cpu_cores = 1,memory_gb = 2,tags = {'type': \"automl-forecasting\"},description = \"Automl forecasting sample service\")\n",
        "aci_service_name = 'automl-og-forecast-04'\n",
        "print(aci_service_name)\n",
        "aci_service = Model.deploy(ws, aci_service_name, [model], inference_config, aciconfig)\n",
        "\n",
        "aci_service.wait_for_deployment(True)\n",
        "print(aci_service.state)\n",
        "aci_service.get_logs()"
      ],
      "outputs": [
        {
          "output_type": "stream",
          "name": "stdout",
          "text": [
            "automl-og-forecast-04\n",
            "Tips: You can try get_logs(): https://aka.ms/debugimage#dockerlog or local deployment: https://aka.ms/debugimage#debug-locally to debug if deployment takes longer than 10 minutes.\n",
            "Running..........................................................\n",
            "Succeeded\n",
            "ACI service creation operation finished, operation \"Succeeded\"\n",
            "Healthy\n"
          ]
        },
        {
          "output_type": "execute_result",
          "execution_count": 122,
          "data": {
            "text/plain": "'2020-10-27T17:06:36,161851232+00:00 - rsyslog/run \\n/usr/sbin/nginx: /azureml-envs/azureml_912ebce86aa851a4f789bc2c01e320a3/lib/libcrypto.so.1.0.0: no version information available (required by /usr/sbin/nginx)\\n/usr/sbin/nginx: /azureml-envs/azureml_912ebce86aa851a4f789bc2c01e320a3/lib/libcrypto.so.1.0.0: no version information available (required by /usr/sbin/nginx)\\n/usr/sbin/nginx: /azureml-envs/azureml_912ebce86aa851a4f789bc2c01e320a3/lib/libssl.so.1.0.0: no version information available (required by /usr/sbin/nginx)\\n/usr/sbin/nginx: /azureml-envs/azureml_912ebce86aa851a4f789bc2c01e320a3/lib/libssl.so.1.0.0: no version information available (required by /usr/sbin/nginx)\\n/usr/sbin/nginx: /azureml-envs/azureml_912ebce86aa851a4f789bc2c01e320a3/lib/libssl.so.1.0.0: no version information available (required by /usr/sbin/nginx)\\n2020-10-27T17:06:36,164497039+00:00 - gunicorn/run \\n2020-10-27T17:06:36,170421056+00:00 - nginx/run \\nrsyslogd: /azureml-envs/azureml_912ebce86aa851a4f789bc2c01e320a3/lib/libuuid.so.1: no version information available (required by rsyslogd)\\n2020-10-27T17:06:36,200669039+00:00 - iot-server/run \\nEdgeHubConnectionString and IOTEDGE_IOTHUBHOSTNAME are not set. Exiting...\\n2020-10-27T17:06:36,368098302+00:00 - iot-server/finish 1 0\\n2020-10-27T17:06:36,374789520+00:00 - Exit code 1 is normal. Not restarting iot-server.\\nStarting gunicorn 19.9.0\\nListening at: http://127.0.0.1:31311 (11)\\nUsing worker: sync\\nworker timeout is set to 300\\nBooting worker with pid: 38\\nSPARK_HOME not set. Skipping PySpark Initialization.\\nGenerating new fontManager, this may take some time...\\nInitializing logger\\n2020-10-27 17:06:38,874 | root | INFO | Starting up app insights client\\nStarting up app insights client\\n2020-10-27 17:06:38,875 | root | INFO | Starting up request id generator\\nStarting up request id generator\\n2020-10-27 17:06:38,875 | root | INFO | Starting up app insight hooks\\nStarting up app insight hooks\\n2020-10-27 17:06:38,875 | root | INFO | Invoking user\\'s init function\\nInvoking user\\'s init function\\n2020-10-27 17:06:40,206 | root | INFO | Users\\'s init has completed successfully\\nUsers\\'s init has completed successfully\\n/azureml-envs/azureml_912ebce86aa851a4f789bc2c01e320a3/lib/python3.6/site-packages/sklearn/externals/joblib/__init__.py:15: FutureWarning: sklearn.externals.joblib is deprecated in 0.21 and will be removed in 0.23. Please import this functionality directly from joblib, which can be installed with: pip install joblib. If this warning is raised when loading pickled models, you may need to re-serialize those models with scikit-learn 0.21+.\\n  warnings.warn(msg, category=FutureWarning)\\n2020-10-27 17:06:40,209 | root | INFO | Skipping middleware: dbg_model_info as it\\'s not enabled.\\nSkipping middleware: dbg_model_info as it\\'s not enabled.\\n2020-10-27 17:06:40,209 | root | INFO | Skipping middleware: dbg_resource_usage as it\\'s not enabled.\\nSkipping middleware: dbg_resource_usage as it\\'s not enabled.\\n2020-10-27 17:06:40,211 | root | INFO | Scoring timeout is found from os.environ: 60000 ms\\nScoring timeout is found from os.environ: 60000 ms\\n2020-10-27 17:06:51,723 | root | INFO | 200\\n200\\n127.0.0.1 - - [27/Oct/2020:17:06:51 +0000] \"GET /swagger.json HTTP/1.0\" 200 2902 \"-\" \"Go-http-client/1.1\"\\n2020-10-27 17:06:57,560 | root | INFO | 200\\n200\\n127.0.0.1 - - [27/Oct/2020:17:06:57 +0000] \"GET /swagger.json HTTP/1.0\" 200 2902 \"-\" \"Go-http-client/1.1\"\\n'"
          },
          "metadata": {}
        }
      ],
      "execution_count": 122,
      "metadata": {
        "gather": {
          "logged": 1603818418967
        },
        "jupyter": {
          "outputs_hidden": false,
          "source_hidden": false
        },
        "nteract": {
          "transient": {
            "deleting": false
          }
        }
      }
    },
    {
      "cell_type": "markdown",
      "source": [
        "from azureml.core.model import InferenceConfig\n",
        "from azureml.core.webservice import AciWebservice\n",
        "from azureml.core.webservice import Webservice\n",
        "from azureml.core.model import model_name_validation\n",
        "\n",
        "InferenceConfig=InferenceConfig(enviroment=best_run.get_enviroment(), entry_script=script_file_name)\n",
        "\n",
        "aciconfig=AciWebservice.deploy_configuration(cpu_cores=1, memory_gb=2, tags={'type':\"automl-forecasting\"}, description='Automl forecasting sample service')\n",
        "\n",
        "aci_service_name='automl-og-forecast-01'\n",
        "print(aci_service_name)\n",
        "aci_service=Model.deploy(ws, aci_service_name, [model], inference_config, aciconfig)\n",
        "aci_service.wait_for_deployment(True)\n",
        "print(aci_service.state)\n"
      ],
      "metadata": {
        "nteract": {
          "transient": {
            "deleting": false
          }
        }
      }
    },
    {
      "cell_type": "code",
      "source": [
        "import json\n",
        "# The request data frame needs to have y_query column which corresponds to query.\n",
        "X_query = test.copy()\n",
        "X_query['y_query'] = np.NaN\n",
        "\n",
        "# We have to convert datetime to string, because Timestamps cannot be serialized to JSON.\n",
        "X_query[time_column_name] = X_query[time_column_name].astype(str)\n",
        "\n",
        "# The Service object accept the complex dictionary, which is internally converted to JSON string.\n",
        "# The section 'data' contains the data frame in the form of dictionary.\n",
        "test_sample = json.dumps({'data': X_query.to_dict(orient='records')})\n",
        "response = aci_service.run(input_data = test_sample)\n",
        "\n",
        "# translate from networkese to datascientese\n",
        "try:\n",
        "    res_dict = json.loads(response)\n",
        "    y_fcst_all = pd.DataFrame(res_dict['index'])\n",
        "    y_fcst_all[time_column_name] = pd.to_datetime(y_fcst_all[time_column_name], unit = 'ms')\n",
        "    y_fcst_all['forecast'] = res_dict['forecast']   \n",
        "\n",
        "except:\n",
        "    print(res_dict)\n"
      ],
      "outputs": [],
      "execution_count": 123,
      "metadata": {
        "gather": {
          "logged": 1603819323940
        },
        "jupyter": {
          "outputs_hidden": false,
          "source_hidden": false
        },
        "nteract": {
          "transient": {
            "deleting": false
          }
        }
      }
    },
    {
      "cell_type": "markdown",
      "source": [
        "import json\n",
        "X_query=X_test.copy()\n",
        "X_query[time_column_name]=X_query[time_column_name].astype(str)\n",
        "test_sample=json.dumps({'data':X_query.to_dict(orient='records')})\n",
        "response=aci_service.run(input_data=test_sample)\n",
        "try:\n",
        "    res_dict=json.loads(response)\n",
        "    y_fcst_all=pd.DataFrame(res_dict['index'])\n",
        "    y_fcst_all[time_column_name]=pd.to_datetime(y_fcst_all[time_column_name], unit='ms')\n",
        "    y_fcst_all['forecast']=res_dict['forecast']\n",
        "except:\n",
        "    print(res_dict)"
      ],
      "metadata": {
        "nteract": {
          "transient": {
            "deleting": false
          }
        }
      }
    },
    {
      "cell_type": "code",
      "source": [
        "y_fcst_all.head(n_test_periods)"
      ],
      "outputs": [
        {
          "output_type": "execute_result",
          "execution_count": 124,
          "data": {
            "text/plain": "   day_datetime  _automl_dummy_grain_col  forecast\n0  2016-12-31    _automl_dummy_grain_col 2.33     \n1  2017-03-31    _automl_dummy_grain_col 0.56     \n2  2017-06-30    _automl_dummy_grain_col 0.88     \n3  2017-09-30    _automl_dummy_grain_col 2.41     \n4  2017-12-31    _automl_dummy_grain_col 2.75     \n5  2018-03-31    _automl_dummy_grain_col 2.23     \n6  2018-06-30    _automl_dummy_grain_col 1.57     \n7  2018-09-30    _automl_dummy_grain_col 1.77     \n8  2018-12-31    _automl_dummy_grain_col 1.98     \n9  2019-03-31    _automl_dummy_grain_col 1.66     \n10 2019-06-30    _automl_dummy_grain_col 0.75     \n11 2019-09-30    _automl_dummy_grain_col 2.82     \n12 2019-12-31    _automl_dummy_grain_col 2.50     \n13 2020-03-31    _automl_dummy_grain_col -2.46    ",
            "text/html": "<div>\n<style scoped>\n    .dataframe tbody tr th:only-of-type {\n        vertical-align: middle;\n    }\n\n    .dataframe tbody tr th {\n        vertical-align: top;\n    }\n\n    .dataframe thead th {\n        text-align: right;\n    }\n</style>\n<table border=\"1\" class=\"dataframe\">\n  <thead>\n    <tr style=\"text-align: right;\">\n      <th></th>\n      <th>day_datetime</th>\n      <th>_automl_dummy_grain_col</th>\n      <th>forecast</th>\n    </tr>\n  </thead>\n  <tbody>\n    <tr>\n      <th>0</th>\n      <td>2016-12-31</td>\n      <td>_automl_dummy_grain_col</td>\n      <td>2.33</td>\n    </tr>\n    <tr>\n      <th>1</th>\n      <td>2017-03-31</td>\n      <td>_automl_dummy_grain_col</td>\n      <td>0.56</td>\n    </tr>\n    <tr>\n      <th>2</th>\n      <td>2017-06-30</td>\n      <td>_automl_dummy_grain_col</td>\n      <td>0.88</td>\n    </tr>\n    <tr>\n      <th>3</th>\n      <td>2017-09-30</td>\n      <td>_automl_dummy_grain_col</td>\n      <td>2.41</td>\n    </tr>\n    <tr>\n      <th>4</th>\n      <td>2017-12-31</td>\n      <td>_automl_dummy_grain_col</td>\n      <td>2.75</td>\n    </tr>\n    <tr>\n      <th>5</th>\n      <td>2018-03-31</td>\n      <td>_automl_dummy_grain_col</td>\n      <td>2.23</td>\n    </tr>\n    <tr>\n      <th>6</th>\n      <td>2018-06-30</td>\n      <td>_automl_dummy_grain_col</td>\n      <td>1.57</td>\n    </tr>\n    <tr>\n      <th>7</th>\n      <td>2018-09-30</td>\n      <td>_automl_dummy_grain_col</td>\n      <td>1.77</td>\n    </tr>\n    <tr>\n      <th>8</th>\n      <td>2018-12-31</td>\n      <td>_automl_dummy_grain_col</td>\n      <td>1.98</td>\n    </tr>\n    <tr>\n      <th>9</th>\n      <td>2019-03-31</td>\n      <td>_automl_dummy_grain_col</td>\n      <td>1.66</td>\n    </tr>\n    <tr>\n      <th>10</th>\n      <td>2019-06-30</td>\n      <td>_automl_dummy_grain_col</td>\n      <td>0.75</td>\n    </tr>\n    <tr>\n      <th>11</th>\n      <td>2019-09-30</td>\n      <td>_automl_dummy_grain_col</td>\n      <td>2.82</td>\n    </tr>\n    <tr>\n      <th>12</th>\n      <td>2019-12-31</td>\n      <td>_automl_dummy_grain_col</td>\n      <td>2.50</td>\n    </tr>\n    <tr>\n      <th>13</th>\n      <td>2020-03-31</td>\n      <td>_automl_dummy_grain_col</td>\n      <td>-2.46</td>\n    </tr>\n  </tbody>\n</table>\n</div>"
          },
          "metadata": {}
        }
      ],
      "execution_count": 124,
      "metadata": {
        "gather": {
          "logged": 1603819331429
        },
        "jupyter": {
          "outputs_hidden": false,
          "source_hidden": false
        },
        "nteract": {
          "transient": {
            "deleting": false
          }
        }
      }
    },
    {
      "cell_type": "code",
      "source": [
        "compare=y_fcst_all.head(n_test_periods)\n",
        "compare[\"real\"]=df_all[target_column_name]\n",
        "compare"
      ],
      "outputs": [
        {
          "output_type": "execute_result",
          "execution_count": 125,
          "data": {
            "text/plain": "   day_datetime  _automl_dummy_grain_col  forecast  real\n0  2016-12-31    _automl_dummy_grain_col 2.33      2.27 \n1  2017-03-31    _automl_dummy_grain_col 0.56      4.68 \n2  2017-06-30    _automl_dummy_grain_col 0.88      4.80 \n3  2017-09-30    _automl_dummy_grain_col 2.41      1.44 \n4  2017-12-31    _automl_dummy_grain_col 2.75      1.74 \n5  2018-03-31    _automl_dummy_grain_col 2.23      2.20 \n6  2018-06-30    _automl_dummy_grain_col 1.57      1.57 \n7  2018-09-30    _automl_dummy_grain_col 1.77      2.45 \n8  2018-12-31    _automl_dummy_grain_col 1.98      0.98 \n9  2019-03-31    _automl_dummy_grain_col 1.66      1.16 \n10 2019-06-30    _automl_dummy_grain_col 0.75      3.24 \n11 2019-09-30    _automl_dummy_grain_col 2.82      1.12 \n12 2019-12-31    _automl_dummy_grain_col 2.50      0.60 \n13 2020-03-31    _automl_dummy_grain_col -2.46     -8.16",
            "text/html": "<div>\n<style scoped>\n    .dataframe tbody tr th:only-of-type {\n        vertical-align: middle;\n    }\n\n    .dataframe tbody tr th {\n        vertical-align: top;\n    }\n\n    .dataframe thead th {\n        text-align: right;\n    }\n</style>\n<table border=\"1\" class=\"dataframe\">\n  <thead>\n    <tr style=\"text-align: right;\">\n      <th></th>\n      <th>day_datetime</th>\n      <th>_automl_dummy_grain_col</th>\n      <th>forecast</th>\n      <th>real</th>\n    </tr>\n  </thead>\n  <tbody>\n    <tr>\n      <th>0</th>\n      <td>2016-12-31</td>\n      <td>_automl_dummy_grain_col</td>\n      <td>2.33</td>\n      <td>2.27</td>\n    </tr>\n    <tr>\n      <th>1</th>\n      <td>2017-03-31</td>\n      <td>_automl_dummy_grain_col</td>\n      <td>0.56</td>\n      <td>4.68</td>\n    </tr>\n    <tr>\n      <th>2</th>\n      <td>2017-06-30</td>\n      <td>_automl_dummy_grain_col</td>\n      <td>0.88</td>\n      <td>4.80</td>\n    </tr>\n    <tr>\n      <th>3</th>\n      <td>2017-09-30</td>\n      <td>_automl_dummy_grain_col</td>\n      <td>2.41</td>\n      <td>1.44</td>\n    </tr>\n    <tr>\n      <th>4</th>\n      <td>2017-12-31</td>\n      <td>_automl_dummy_grain_col</td>\n      <td>2.75</td>\n      <td>1.74</td>\n    </tr>\n    <tr>\n      <th>5</th>\n      <td>2018-03-31</td>\n      <td>_automl_dummy_grain_col</td>\n      <td>2.23</td>\n      <td>2.20</td>\n    </tr>\n    <tr>\n      <th>6</th>\n      <td>2018-06-30</td>\n      <td>_automl_dummy_grain_col</td>\n      <td>1.57</td>\n      <td>1.57</td>\n    </tr>\n    <tr>\n      <th>7</th>\n      <td>2018-09-30</td>\n      <td>_automl_dummy_grain_col</td>\n      <td>1.77</td>\n      <td>2.45</td>\n    </tr>\n    <tr>\n      <th>8</th>\n      <td>2018-12-31</td>\n      <td>_automl_dummy_grain_col</td>\n      <td>1.98</td>\n      <td>0.98</td>\n    </tr>\n    <tr>\n      <th>9</th>\n      <td>2019-03-31</td>\n      <td>_automl_dummy_grain_col</td>\n      <td>1.66</td>\n      <td>1.16</td>\n    </tr>\n    <tr>\n      <th>10</th>\n      <td>2019-06-30</td>\n      <td>_automl_dummy_grain_col</td>\n      <td>0.75</td>\n      <td>3.24</td>\n    </tr>\n    <tr>\n      <th>11</th>\n      <td>2019-09-30</td>\n      <td>_automl_dummy_grain_col</td>\n      <td>2.82</td>\n      <td>1.12</td>\n    </tr>\n    <tr>\n      <th>12</th>\n      <td>2019-12-31</td>\n      <td>_automl_dummy_grain_col</td>\n      <td>2.50</td>\n      <td>0.60</td>\n    </tr>\n    <tr>\n      <th>13</th>\n      <td>2020-03-31</td>\n      <td>_automl_dummy_grain_col</td>\n      <td>-2.46</td>\n      <td>-8.16</td>\n    </tr>\n  </tbody>\n</table>\n</div>"
          },
          "metadata": {}
        }
      ],
      "execution_count": 125,
      "metadata": {
        "gather": {
          "logged": 1603819337649
        },
        "jupyter": {
          "outputs_hidden": false,
          "source_hidden": false
        },
        "nteract": {
          "transient": {
            "deleting": false
          }
        }
      }
    },
    {
      "cell_type": "code",
      "source": [
        "import matplotlib.dates as mdates\n",
        "fig = plt.figure()\n",
        "axes = fig.add_axes([0.2,0.2,0.8,0.8])\n",
        "axes.plot(compare['day_datetime'],compare['real'],'r',marker='o',label='Real')\n",
        "axes.plot(compare['day_datetime'],compare['forecast'],marker='o',label='Predictions')\n",
        "axes.set_xlabel('Dates')\n",
        "axes.set_ylabel('GDP')\n",
        "axes.set_title('Canadian GDP')\n",
        "axes.legend()\n",
        "plt.tight_layout\n",
        "fig.autofmt_xdate()\n",
        "# This format code is not working\\n\",\n",
        "#axes.fmt_xdata = mdates.DateFormatter('%YY-%mm')\\n\",\n",
        "# Use a more precise date string for the x axis locations in the toolbar.\\n\",\n",
        "plt.show()"
      ],
      "outputs": [
        {
          "output_type": "display_data",
          "data": {
            "text/plain": "<Figure size 432x288 with 1 Axes>",
            "image/png": "[encoded data removed]"
          },
          "metadata": {
            "needs_background": "light"
          }
        }
      ],
      "execution_count": 127,
      "metadata": {
        "gather": {
          "logged": 1603819359087
        }
      }
    }
  ],
  "metadata": {
    "kernel_info": {
      "name": "python3-azureml"
    },
    "kernelspec": {
      "name": "python3-azureml",
      "language": "python",
      "display_name": "Python 3.6 - AzureML"
    },
    "language_info": {
      "name": "python",
      "version": "3.6.9",
      "mimetype": "text/x-python",
      "codemirror_mode": {
        "name": "ipython",
        "version": 3
      },
      "pygments_lexer": "ipython3",
      "nbconvert_exporter": "python",
      "file_extension": ".py"
    },
    "nteract": {
      "version": "nteract-front-end@1.0.0"
    }
  },
  "nbformat": 4,
  "nbformat_minor": 2
}